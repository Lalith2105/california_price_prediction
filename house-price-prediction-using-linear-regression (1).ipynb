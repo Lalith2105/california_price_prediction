{
 "cells": [
  {
   "cell_type": "code",
   "execution_count": 7,
   "id": "super-indonesia",
   "metadata": {
    "execution": {
     "iopub.execute_input": "2021-07-04T18:19:27.379991Z",
     "iopub.status.busy": "2021-07-04T18:19:27.379439Z",
     "iopub.status.idle": "2021-07-04T18:19:28.100447Z",
     "shell.execute_reply": "2021-07-04T18:19:28.101140Z"
    },
    "papermill": {
     "duration": 0.781986,
     "end_time": "2021-07-04T18:19:28.101410",
     "exception": false,
     "start_time": "2021-07-04T18:19:27.319424",
     "status": "completed"
    },
    "tags": []
   },
   "outputs": [],
   "source": [
    "import pandas as pd\n",
    "import seaborn as sns\n",
    "import numpy as np\n",
    "import matplotlib.pyplot as plt\n",
    "%matplotlib inline"
   ]
  },
  {
   "cell_type": "code",
   "execution_count": 8,
   "id": "b8cd6e8e",
   "metadata": {
    "scrolled": true
   },
   "outputs": [],
   "source": [
    "# ! pip install pandas\n",
    "# ! pip install seaborn\n",
    "# ! pip install numpy\n",
    "# ! pip install matplotlib\n",
    "# ! pip install scikit-learn"
   ]
  },
  {
   "cell_type": "code",
   "execution_count": 38,
   "id": "looking-surge",
   "metadata": {
    "execution": {
     "iopub.execute_input": "2021-07-04T18:19:28.217493Z",
     "iopub.status.busy": "2021-07-04T18:19:28.216587Z",
     "iopub.status.idle": "2021-07-04T18:19:28.275407Z",
     "shell.execute_reply": "2021-07-04T18:19:28.275881Z"
    },
    "papermill": {
     "duration": 0.112373,
     "end_time": "2021-07-04T18:19:28.276041",
     "exception": false,
     "start_time": "2021-07-04T18:19:28.163668",
     "status": "completed"
    },
    "tags": []
   },
   "outputs": [],
   "source": [
    "df = pd.read_csv('./housing.csv')"
   ]
  },
  {
   "cell_type": "code",
   "execution_count": 39,
   "id": "9cb1fce2",
   "metadata": {},
   "outputs": [
    {
     "data": {
      "text/plain": [
       "(20640, 10)"
      ]
     },
     "execution_count": 39,
     "metadata": {},
     "output_type": "execute_result"
    }
   ],
   "source": [
    "df.shape"
   ]
  },
  {
   "cell_type": "code",
   "execution_count": 40,
   "id": "offensive-neutral",
   "metadata": {
    "execution": {
     "iopub.execute_input": "2021-07-04T18:19:28.527378Z",
     "iopub.status.busy": "2021-07-04T18:19:28.526564Z",
     "iopub.status.idle": "2021-07-04T18:19:28.529672Z",
     "shell.execute_reply": "2021-07-04T18:19:28.530171Z"
    },
    "papermill": {
     "duration": 0.065182,
     "end_time": "2021-07-04T18:19:28.530318",
     "exception": false,
     "start_time": "2021-07-04T18:19:28.465136",
     "status": "completed"
    },
    "tags": []
   },
   "outputs": [
    {
     "data": {
      "text/plain": [
       "<1H OCEAN     9136\n",
       "INLAND        6551\n",
       "NEAR OCEAN    2658\n",
       "NEAR BAY      2290\n",
       "ISLAND           5\n",
       "Name: ocean_proximity, dtype: int64"
      ]
     },
     "execution_count": 40,
     "metadata": {},
     "output_type": "execute_result"
    }
   ],
   "source": [
    "df['ocean_proximity'].value_counts()"
   ]
  },
  {
   "cell_type": "code",
   "execution_count": 41,
   "id": "according-jurisdiction",
   "metadata": {
    "execution": {
     "iopub.execute_input": "2021-07-04T18:19:28.633750Z",
     "iopub.status.busy": "2021-07-04T18:19:28.632591Z",
     "iopub.status.idle": "2021-07-04T18:19:28.652603Z",
     "shell.execute_reply": "2021-07-04T18:19:28.652060Z"
    },
    "papermill": {
     "duration": 0.073116,
     "end_time": "2021-07-04T18:19:28.652771",
     "exception": false,
     "start_time": "2021-07-04T18:19:28.579655",
     "status": "completed"
    },
    "tags": []
   },
   "outputs": [
    {
     "name": "stdout",
     "output_type": "stream",
     "text": [
      "<class 'pandas.core.frame.DataFrame'>\n",
      "RangeIndex: 20640 entries, 0 to 20639\n",
      "Data columns (total 10 columns):\n",
      " #   Column              Non-Null Count  Dtype  \n",
      "---  ------              --------------  -----  \n",
      " 0   longitude           20640 non-null  float64\n",
      " 1   latitude            20640 non-null  float64\n",
      " 2   housing_median_age  20640 non-null  float64\n",
      " 3   total_rooms         20640 non-null  float64\n",
      " 4   total_bedrooms      20433 non-null  float64\n",
      " 5   population          20640 non-null  float64\n",
      " 6   households          20640 non-null  float64\n",
      " 7   median_income       20640 non-null  float64\n",
      " 8   median_house_value  20640 non-null  float64\n",
      " 9   ocean_proximity     20640 non-null  object \n",
      "dtypes: float64(9), object(1)\n",
      "memory usage: 1.6+ MB\n"
     ]
    }
   ],
   "source": [
    "df.info()"
   ]
  },
  {
   "cell_type": "code",
   "execution_count": 42,
   "id": "0bcc6511",
   "metadata": {},
   "outputs": [
    {
     "data": {
      "text/html": [
       "<div>\n",
       "<style scoped>\n",
       "    .dataframe tbody tr th:only-of-type {\n",
       "        vertical-align: middle;\n",
       "    }\n",
       "\n",
       "    .dataframe tbody tr th {\n",
       "        vertical-align: top;\n",
       "    }\n",
       "\n",
       "    .dataframe thead th {\n",
       "        text-align: right;\n",
       "    }\n",
       "</style>\n",
       "<table border=\"1\" class=\"dataframe\">\n",
       "  <thead>\n",
       "    <tr style=\"text-align: right;\">\n",
       "      <th></th>\n",
       "      <th>longitude</th>\n",
       "      <th>latitude</th>\n",
       "      <th>housing_median_age</th>\n",
       "      <th>total_rooms</th>\n",
       "      <th>total_bedrooms</th>\n",
       "      <th>population</th>\n",
       "      <th>households</th>\n",
       "      <th>median_income</th>\n",
       "      <th>median_house_value</th>\n",
       "    </tr>\n",
       "  </thead>\n",
       "  <tbody>\n",
       "    <tr>\n",
       "      <th>count</th>\n",
       "      <td>20640.000000</td>\n",
       "      <td>20640.000000</td>\n",
       "      <td>20640.000000</td>\n",
       "      <td>20640.000000</td>\n",
       "      <td>20433.000000</td>\n",
       "      <td>20640.000000</td>\n",
       "      <td>20640.000000</td>\n",
       "      <td>20640.000000</td>\n",
       "      <td>20640.000000</td>\n",
       "    </tr>\n",
       "    <tr>\n",
       "      <th>mean</th>\n",
       "      <td>-119.569704</td>\n",
       "      <td>35.631861</td>\n",
       "      <td>28.639486</td>\n",
       "      <td>2635.763081</td>\n",
       "      <td>537.870553</td>\n",
       "      <td>1425.476744</td>\n",
       "      <td>499.539680</td>\n",
       "      <td>3.870671</td>\n",
       "      <td>206855.816909</td>\n",
       "    </tr>\n",
       "    <tr>\n",
       "      <th>std</th>\n",
       "      <td>2.003532</td>\n",
       "      <td>2.135952</td>\n",
       "      <td>12.585558</td>\n",
       "      <td>2181.615252</td>\n",
       "      <td>421.385070</td>\n",
       "      <td>1132.462122</td>\n",
       "      <td>382.329753</td>\n",
       "      <td>1.899822</td>\n",
       "      <td>115395.615874</td>\n",
       "    </tr>\n",
       "    <tr>\n",
       "      <th>min</th>\n",
       "      <td>-124.350000</td>\n",
       "      <td>32.540000</td>\n",
       "      <td>1.000000</td>\n",
       "      <td>2.000000</td>\n",
       "      <td>1.000000</td>\n",
       "      <td>3.000000</td>\n",
       "      <td>1.000000</td>\n",
       "      <td>0.499900</td>\n",
       "      <td>14999.000000</td>\n",
       "    </tr>\n",
       "    <tr>\n",
       "      <th>25%</th>\n",
       "      <td>-121.800000</td>\n",
       "      <td>33.930000</td>\n",
       "      <td>18.000000</td>\n",
       "      <td>1447.750000</td>\n",
       "      <td>296.000000</td>\n",
       "      <td>787.000000</td>\n",
       "      <td>280.000000</td>\n",
       "      <td>2.563400</td>\n",
       "      <td>119600.000000</td>\n",
       "    </tr>\n",
       "    <tr>\n",
       "      <th>50%</th>\n",
       "      <td>-118.490000</td>\n",
       "      <td>34.260000</td>\n",
       "      <td>29.000000</td>\n",
       "      <td>2127.000000</td>\n",
       "      <td>435.000000</td>\n",
       "      <td>1166.000000</td>\n",
       "      <td>409.000000</td>\n",
       "      <td>3.534800</td>\n",
       "      <td>179700.000000</td>\n",
       "    </tr>\n",
       "    <tr>\n",
       "      <th>75%</th>\n",
       "      <td>-118.010000</td>\n",
       "      <td>37.710000</td>\n",
       "      <td>37.000000</td>\n",
       "      <td>3148.000000</td>\n",
       "      <td>647.000000</td>\n",
       "      <td>1725.000000</td>\n",
       "      <td>605.000000</td>\n",
       "      <td>4.743250</td>\n",
       "      <td>264725.000000</td>\n",
       "    </tr>\n",
       "    <tr>\n",
       "      <th>max</th>\n",
       "      <td>-114.310000</td>\n",
       "      <td>41.950000</td>\n",
       "      <td>52.000000</td>\n",
       "      <td>39320.000000</td>\n",
       "      <td>6445.000000</td>\n",
       "      <td>35682.000000</td>\n",
       "      <td>6082.000000</td>\n",
       "      <td>15.000100</td>\n",
       "      <td>500001.000000</td>\n",
       "    </tr>\n",
       "  </tbody>\n",
       "</table>\n",
       "</div>"
      ],
      "text/plain": [
       "          longitude      latitude  housing_median_age   total_rooms  \\\n",
       "count  20640.000000  20640.000000        20640.000000  20640.000000   \n",
       "mean    -119.569704     35.631861           28.639486   2635.763081   \n",
       "std        2.003532      2.135952           12.585558   2181.615252   \n",
       "min     -124.350000     32.540000            1.000000      2.000000   \n",
       "25%     -121.800000     33.930000           18.000000   1447.750000   \n",
       "50%     -118.490000     34.260000           29.000000   2127.000000   \n",
       "75%     -118.010000     37.710000           37.000000   3148.000000   \n",
       "max     -114.310000     41.950000           52.000000  39320.000000   \n",
       "\n",
       "       total_bedrooms    population    households  median_income  \\\n",
       "count    20433.000000  20640.000000  20640.000000   20640.000000   \n",
       "mean       537.870553   1425.476744    499.539680       3.870671   \n",
       "std        421.385070   1132.462122    382.329753       1.899822   \n",
       "min          1.000000      3.000000      1.000000       0.499900   \n",
       "25%        296.000000    787.000000    280.000000       2.563400   \n",
       "50%        435.000000   1166.000000    409.000000       3.534800   \n",
       "75%        647.000000   1725.000000    605.000000       4.743250   \n",
       "max       6445.000000  35682.000000   6082.000000      15.000100   \n",
       "\n",
       "       median_house_value  \n",
       "count        20640.000000  \n",
       "mean        206855.816909  \n",
       "std         115395.615874  \n",
       "min          14999.000000  \n",
       "25%         119600.000000  \n",
       "50%         179700.000000  \n",
       "75%         264725.000000  \n",
       "max         500001.000000  "
      ]
     },
     "execution_count": 42,
     "metadata": {},
     "output_type": "execute_result"
    }
   ],
   "source": [
    "df.describe() #shapiro wilkin test"
   ]
  },
  {
   "cell_type": "code",
   "execution_count": 43,
   "id": "nonprofit-alexander",
   "metadata": {
    "execution": {
     "iopub.execute_input": "2021-07-04T18:19:28.761177Z",
     "iopub.status.busy": "2021-07-04T18:19:28.760642Z",
     "iopub.status.idle": "2021-07-04T18:19:28.766515Z",
     "shell.execute_reply": "2021-07-04T18:19:28.766079Z"
    },
    "papermill": {
     "duration": 0.06346,
     "end_time": "2021-07-04T18:19:28.766629",
     "exception": false,
     "start_time": "2021-07-04T18:19:28.703169",
     "status": "completed"
    },
    "tags": []
   },
   "outputs": [
    {
     "data": {
      "text/plain": [
       "longitude               0\n",
       "latitude                0\n",
       "housing_median_age      0\n",
       "total_rooms             0\n",
       "total_bedrooms        207\n",
       "population              0\n",
       "households              0\n",
       "median_income           0\n",
       "median_house_value      0\n",
       "ocean_proximity         0\n",
       "dtype: int64"
      ]
     },
     "execution_count": 43,
     "metadata": {},
     "output_type": "execute_result"
    }
   ],
   "source": [
    "df.isnull().sum()"
   ]
  },
  {
   "cell_type": "code",
   "execution_count": 44,
   "id": "plastic-korea",
   "metadata": {
    "execution": {
     "iopub.execute_input": "2021-07-04T18:19:29.178833Z",
     "iopub.status.busy": "2021-07-04T18:19:29.178245Z",
     "iopub.status.idle": "2021-07-04T18:19:29.179929Z",
     "shell.execute_reply": "2021-07-04T18:19:29.180375Z"
    },
    "papermill": {
     "duration": 0.059443,
     "end_time": "2021-07-04T18:19:29.180518",
     "exception": false,
     "start_time": "2021-07-04T18:19:29.121075",
     "status": "completed"
    },
    "tags": []
   },
   "outputs": [],
   "source": [
    "#dropping longitude & latitude columns\n",
    "df.drop(['longitude','latitude'],axis=1,inplace =True)"
   ]
  },
  {
   "cell_type": "code",
   "execution_count": 45,
   "id": "2c0f5c56",
   "metadata": {},
   "outputs": [],
   "source": [
    "# df['total_bedrooms'].isna().sum()"
   ]
  },
  {
   "cell_type": "code",
   "execution_count": 46,
   "id": "f48d8358",
   "metadata": {},
   "outputs": [],
   "source": [
    "?df.dropna"
   ]
  },
  {
   "cell_type": "code",
   "execution_count": 49,
   "id": "ultimate-sucking",
   "metadata": {
    "execution": {
     "iopub.execute_input": "2021-07-04T18:19:29.410992Z",
     "iopub.status.busy": "2021-07-04T18:19:29.410203Z",
     "iopub.status.idle": "2021-07-04T18:19:29.414791Z",
     "shell.execute_reply": "2021-07-04T18:19:29.414345Z"
    },
    "papermill": {
     "duration": 0.060027,
     "end_time": "2021-07-04T18:19:29.414911",
     "exception": false,
     "start_time": "2021-07-04T18:19:29.354884",
     "status": "completed"
    },
    "tags": []
   },
   "outputs": [],
   "source": [
    "df['total_bedrooms'].fillna(df['total_bedrooms'].median(),inplace=True)"
   ]
  },
  {
   "cell_type": "code",
   "execution_count": 50,
   "id": "flexible-rouge",
   "metadata": {
    "collapsed": true,
    "execution": {
     "iopub.execute_input": "2021-07-04T18:19:29.524751Z",
     "iopub.status.busy": "2021-07-04T18:19:29.524236Z",
     "iopub.status.idle": "2021-07-04T18:19:29.534685Z",
     "shell.execute_reply": "2021-07-04T18:19:29.534264Z"
    },
    "papermill": {
     "duration": 0.068376,
     "end_time": "2021-07-04T18:19:29.534834",
     "exception": false,
     "start_time": "2021-07-04T18:19:29.466458",
     "status": "completed"
    },
    "tags": []
   },
   "outputs": [
    {
     "name": "stdout",
     "output_type": "stream",
     "text": [
      "<class 'pandas.core.frame.DataFrame'>\n",
      "RangeIndex: 20640 entries, 0 to 20639\n",
      "Data columns (total 8 columns):\n",
      " #   Column              Non-Null Count  Dtype  \n",
      "---  ------              --------------  -----  \n",
      " 0   housing_median_age  20640 non-null  float64\n",
      " 1   total_rooms         20640 non-null  float64\n",
      " 2   total_bedrooms      20640 non-null  float64\n",
      " 3   population          20640 non-null  float64\n",
      " 4   households          20640 non-null  float64\n",
      " 5   median_income       20640 non-null  float64\n",
      " 6   median_house_value  20640 non-null  float64\n",
      " 7   ocean_proximity     20640 non-null  object \n",
      "dtypes: float64(7), object(1)\n",
      "memory usage: 1.3+ MB\n"
     ]
    }
   ],
   "source": [
    "df.info()"
   ]
  },
  {
   "cell_type": "code",
   "execution_count": 52,
   "id": "diverse-cambridge",
   "metadata": {
    "collapsed": true,
    "execution": {
     "iopub.execute_input": "2021-07-04T18:19:29.763647Z",
     "iopub.status.busy": "2021-07-04T18:19:29.762752Z",
     "iopub.status.idle": "2021-07-04T18:19:29.775480Z",
     "shell.execute_reply": "2021-07-04T18:19:29.775982Z"
    },
    "papermill": {
     "duration": 0.083501,
     "end_time": "2021-07-04T18:19:29.776136",
     "exception": false,
     "start_time": "2021-07-04T18:19:29.692635",
     "status": "completed"
    },
    "tags": []
   },
   "outputs": [
    {
     "data": {
      "text/html": [
       "<div>\n",
       "<style scoped>\n",
       "    .dataframe tbody tr th:only-of-type {\n",
       "        vertical-align: middle;\n",
       "    }\n",
       "\n",
       "    .dataframe tbody tr th {\n",
       "        vertical-align: top;\n",
       "    }\n",
       "\n",
       "    .dataframe thead th {\n",
       "        text-align: right;\n",
       "    }\n",
       "</style>\n",
       "<table border=\"1\" class=\"dataframe\">\n",
       "  <thead>\n",
       "    <tr style=\"text-align: right;\">\n",
       "      <th></th>\n",
       "      <th>housing_median_age</th>\n",
       "      <th>total_rooms</th>\n",
       "      <th>total_bedrooms</th>\n",
       "      <th>population</th>\n",
       "      <th>households</th>\n",
       "      <th>median_income</th>\n",
       "      <th>median_house_value</th>\n",
       "      <th>ocean_proximity</th>\n",
       "    </tr>\n",
       "  </thead>\n",
       "  <tbody>\n",
       "    <tr>\n",
       "      <th>0</th>\n",
       "      <td>41.0</td>\n",
       "      <td>880.0</td>\n",
       "      <td>129.0</td>\n",
       "      <td>322.0</td>\n",
       "      <td>126.0</td>\n",
       "      <td>8.3252</td>\n",
       "      <td>452600.0</td>\n",
       "      <td>NEAR BAY</td>\n",
       "    </tr>\n",
       "    <tr>\n",
       "      <th>1</th>\n",
       "      <td>21.0</td>\n",
       "      <td>7099.0</td>\n",
       "      <td>1106.0</td>\n",
       "      <td>2401.0</td>\n",
       "      <td>1138.0</td>\n",
       "      <td>8.3014</td>\n",
       "      <td>358500.0</td>\n",
       "      <td>NEAR BAY</td>\n",
       "    </tr>\n",
       "    <tr>\n",
       "      <th>2</th>\n",
       "      <td>52.0</td>\n",
       "      <td>1467.0</td>\n",
       "      <td>190.0</td>\n",
       "      <td>496.0</td>\n",
       "      <td>177.0</td>\n",
       "      <td>7.2574</td>\n",
       "      <td>352100.0</td>\n",
       "      <td>NEAR BAY</td>\n",
       "    </tr>\n",
       "    <tr>\n",
       "      <th>3</th>\n",
       "      <td>52.0</td>\n",
       "      <td>1274.0</td>\n",
       "      <td>235.0</td>\n",
       "      <td>558.0</td>\n",
       "      <td>219.0</td>\n",
       "      <td>5.6431</td>\n",
       "      <td>341300.0</td>\n",
       "      <td>NEAR BAY</td>\n",
       "    </tr>\n",
       "    <tr>\n",
       "      <th>4</th>\n",
       "      <td>52.0</td>\n",
       "      <td>1627.0</td>\n",
       "      <td>280.0</td>\n",
       "      <td>565.0</td>\n",
       "      <td>259.0</td>\n",
       "      <td>3.8462</td>\n",
       "      <td>342200.0</td>\n",
       "      <td>NEAR BAY</td>\n",
       "    </tr>\n",
       "    <tr>\n",
       "      <th>5</th>\n",
       "      <td>52.0</td>\n",
       "      <td>919.0</td>\n",
       "      <td>213.0</td>\n",
       "      <td>413.0</td>\n",
       "      <td>193.0</td>\n",
       "      <td>4.0368</td>\n",
       "      <td>269700.0</td>\n",
       "      <td>NEAR BAY</td>\n",
       "    </tr>\n",
       "    <tr>\n",
       "      <th>6</th>\n",
       "      <td>52.0</td>\n",
       "      <td>2535.0</td>\n",
       "      <td>489.0</td>\n",
       "      <td>1094.0</td>\n",
       "      <td>514.0</td>\n",
       "      <td>3.6591</td>\n",
       "      <td>299200.0</td>\n",
       "      <td>NEAR BAY</td>\n",
       "    </tr>\n",
       "    <tr>\n",
       "      <th>7</th>\n",
       "      <td>52.0</td>\n",
       "      <td>3104.0</td>\n",
       "      <td>687.0</td>\n",
       "      <td>1157.0</td>\n",
       "      <td>647.0</td>\n",
       "      <td>3.1200</td>\n",
       "      <td>241400.0</td>\n",
       "      <td>NEAR BAY</td>\n",
       "    </tr>\n",
       "    <tr>\n",
       "      <th>8</th>\n",
       "      <td>42.0</td>\n",
       "      <td>2555.0</td>\n",
       "      <td>665.0</td>\n",
       "      <td>1206.0</td>\n",
       "      <td>595.0</td>\n",
       "      <td>2.0804</td>\n",
       "      <td>226700.0</td>\n",
       "      <td>NEAR BAY</td>\n",
       "    </tr>\n",
       "  </tbody>\n",
       "</table>\n",
       "</div>"
      ],
      "text/plain": [
       "   housing_median_age  total_rooms  total_bedrooms  population  households  \\\n",
       "0                41.0        880.0           129.0       322.0       126.0   \n",
       "1                21.0       7099.0          1106.0      2401.0      1138.0   \n",
       "2                52.0       1467.0           190.0       496.0       177.0   \n",
       "3                52.0       1274.0           235.0       558.0       219.0   \n",
       "4                52.0       1627.0           280.0       565.0       259.0   \n",
       "5                52.0        919.0           213.0       413.0       193.0   \n",
       "6                52.0       2535.0           489.0      1094.0       514.0   \n",
       "7                52.0       3104.0           687.0      1157.0       647.0   \n",
       "8                42.0       2555.0           665.0      1206.0       595.0   \n",
       "\n",
       "   median_income  median_house_value ocean_proximity  \n",
       "0         8.3252            452600.0        NEAR BAY  \n",
       "1         8.3014            358500.0        NEAR BAY  \n",
       "2         7.2574            352100.0        NEAR BAY  \n",
       "3         5.6431            341300.0        NEAR BAY  \n",
       "4         3.8462            342200.0        NEAR BAY  \n",
       "5         4.0368            269700.0        NEAR BAY  \n",
       "6         3.6591            299200.0        NEAR BAY  \n",
       "7         3.1200            241400.0        NEAR BAY  \n",
       "8         2.0804            226700.0        NEAR BAY  "
      ]
     },
     "execution_count": 52,
     "metadata": {},
     "output_type": "execute_result"
    }
   ],
   "source": [
    "df.head(9)"
   ]
  },
  {
   "cell_type": "code",
   "execution_count": 54,
   "id": "d6425870",
   "metadata": {},
   "outputs": [
    {
     "data": {
      "text/html": [
       "<div>\n",
       "<style scoped>\n",
       "    .dataframe tbody tr th:only-of-type {\n",
       "        vertical-align: middle;\n",
       "    }\n",
       "\n",
       "    .dataframe tbody tr th {\n",
       "        vertical-align: top;\n",
       "    }\n",
       "\n",
       "    .dataframe thead th {\n",
       "        text-align: right;\n",
       "    }\n",
       "</style>\n",
       "<table border=\"1\" class=\"dataframe\">\n",
       "  <thead>\n",
       "    <tr style=\"text-align: right;\">\n",
       "      <th></th>\n",
       "      <th>housing_median_age</th>\n",
       "      <th>total_rooms</th>\n",
       "      <th>total_bedrooms</th>\n",
       "      <th>population</th>\n",
       "      <th>households</th>\n",
       "      <th>median_income</th>\n",
       "      <th>median_house_value</th>\n",
       "      <th>ocean_proximity</th>\n",
       "    </tr>\n",
       "  </thead>\n",
       "  <tbody>\n",
       "    <tr>\n",
       "      <th>20631</th>\n",
       "      <td>15.0</td>\n",
       "      <td>2655.0</td>\n",
       "      <td>493.0</td>\n",
       "      <td>1200.0</td>\n",
       "      <td>432.0</td>\n",
       "      <td>3.5179</td>\n",
       "      <td>107200.0</td>\n",
       "      <td>INLAND</td>\n",
       "    </tr>\n",
       "    <tr>\n",
       "      <th>20632</th>\n",
       "      <td>15.0</td>\n",
       "      <td>2319.0</td>\n",
       "      <td>416.0</td>\n",
       "      <td>1047.0</td>\n",
       "      <td>385.0</td>\n",
       "      <td>3.1250</td>\n",
       "      <td>115600.0</td>\n",
       "      <td>INLAND</td>\n",
       "    </tr>\n",
       "    <tr>\n",
       "      <th>20633</th>\n",
       "      <td>27.0</td>\n",
       "      <td>2080.0</td>\n",
       "      <td>412.0</td>\n",
       "      <td>1082.0</td>\n",
       "      <td>382.0</td>\n",
       "      <td>2.5495</td>\n",
       "      <td>98300.0</td>\n",
       "      <td>INLAND</td>\n",
       "    </tr>\n",
       "    <tr>\n",
       "      <th>20634</th>\n",
       "      <td>28.0</td>\n",
       "      <td>2332.0</td>\n",
       "      <td>395.0</td>\n",
       "      <td>1041.0</td>\n",
       "      <td>344.0</td>\n",
       "      <td>3.7125</td>\n",
       "      <td>116800.0</td>\n",
       "      <td>INLAND</td>\n",
       "    </tr>\n",
       "    <tr>\n",
       "      <th>20635</th>\n",
       "      <td>25.0</td>\n",
       "      <td>1665.0</td>\n",
       "      <td>374.0</td>\n",
       "      <td>845.0</td>\n",
       "      <td>330.0</td>\n",
       "      <td>1.5603</td>\n",
       "      <td>78100.0</td>\n",
       "      <td>INLAND</td>\n",
       "    </tr>\n",
       "    <tr>\n",
       "      <th>20636</th>\n",
       "      <td>18.0</td>\n",
       "      <td>697.0</td>\n",
       "      <td>150.0</td>\n",
       "      <td>356.0</td>\n",
       "      <td>114.0</td>\n",
       "      <td>2.5568</td>\n",
       "      <td>77100.0</td>\n",
       "      <td>INLAND</td>\n",
       "    </tr>\n",
       "    <tr>\n",
       "      <th>20637</th>\n",
       "      <td>17.0</td>\n",
       "      <td>2254.0</td>\n",
       "      <td>485.0</td>\n",
       "      <td>1007.0</td>\n",
       "      <td>433.0</td>\n",
       "      <td>1.7000</td>\n",
       "      <td>92300.0</td>\n",
       "      <td>INLAND</td>\n",
       "    </tr>\n",
       "    <tr>\n",
       "      <th>20638</th>\n",
       "      <td>18.0</td>\n",
       "      <td>1860.0</td>\n",
       "      <td>409.0</td>\n",
       "      <td>741.0</td>\n",
       "      <td>349.0</td>\n",
       "      <td>1.8672</td>\n",
       "      <td>84700.0</td>\n",
       "      <td>INLAND</td>\n",
       "    </tr>\n",
       "    <tr>\n",
       "      <th>20639</th>\n",
       "      <td>16.0</td>\n",
       "      <td>2785.0</td>\n",
       "      <td>616.0</td>\n",
       "      <td>1387.0</td>\n",
       "      <td>530.0</td>\n",
       "      <td>2.3886</td>\n",
       "      <td>89400.0</td>\n",
       "      <td>INLAND</td>\n",
       "    </tr>\n",
       "  </tbody>\n",
       "</table>\n",
       "</div>"
      ],
      "text/plain": [
       "       housing_median_age  total_rooms  total_bedrooms  population  \\\n",
       "20631                15.0       2655.0           493.0      1200.0   \n",
       "20632                15.0       2319.0           416.0      1047.0   \n",
       "20633                27.0       2080.0           412.0      1082.0   \n",
       "20634                28.0       2332.0           395.0      1041.0   \n",
       "20635                25.0       1665.0           374.0       845.0   \n",
       "20636                18.0        697.0           150.0       356.0   \n",
       "20637                17.0       2254.0           485.0      1007.0   \n",
       "20638                18.0       1860.0           409.0       741.0   \n",
       "20639                16.0       2785.0           616.0      1387.0   \n",
       "\n",
       "       households  median_income  median_house_value ocean_proximity  \n",
       "20631       432.0         3.5179            107200.0          INLAND  \n",
       "20632       385.0         3.1250            115600.0          INLAND  \n",
       "20633       382.0         2.5495             98300.0          INLAND  \n",
       "20634       344.0         3.7125            116800.0          INLAND  \n",
       "20635       330.0         1.5603             78100.0          INLAND  \n",
       "20636       114.0         2.5568             77100.0          INLAND  \n",
       "20637       433.0         1.7000             92300.0          INLAND  \n",
       "20638       349.0         1.8672             84700.0          INLAND  \n",
       "20639       530.0         2.3886             89400.0          INLAND  "
      ]
     },
     "execution_count": 54,
     "metadata": {},
     "output_type": "execute_result"
    }
   ],
   "source": [
    "df.tail(9)"
   ]
  },
  {
   "cell_type": "markdown",
   "id": "hollow-table",
   "metadata": {
    "papermill": {
     "duration": 0.053532,
     "end_time": "2021-07-04T18:19:29.888800",
     "exception": false,
     "start_time": "2021-07-04T18:19:29.835268",
     "status": "completed"
    },
    "tags": []
   },
   "source": [
    "# EDA"
   ]
  },
  {
   "cell_type": "code",
   "execution_count": 55,
   "id": "capital-birth",
   "metadata": {
    "execution": {
     "iopub.execute_input": "2021-07-04T18:19:30.001228Z",
     "iopub.status.busy": "2021-07-04T18:19:30.000648Z",
     "iopub.status.idle": "2021-07-04T18:19:30.018404Z",
     "shell.execute_reply": "2021-07-04T18:19:30.017925Z"
    },
    "papermill": {
     "duration": 0.076425,
     "end_time": "2021-07-04T18:19:30.018528",
     "exception": false,
     "start_time": "2021-07-04T18:19:29.942103",
     "status": "completed"
    },
    "tags": []
   },
   "outputs": [
    {
     "data": {
      "text/html": [
       "<div>\n",
       "<style scoped>\n",
       "    .dataframe tbody tr th:only-of-type {\n",
       "        vertical-align: middle;\n",
       "    }\n",
       "\n",
       "    .dataframe tbody tr th {\n",
       "        vertical-align: top;\n",
       "    }\n",
       "\n",
       "    .dataframe thead th {\n",
       "        text-align: right;\n",
       "    }\n",
       "</style>\n",
       "<table border=\"1\" class=\"dataframe\">\n",
       "  <thead>\n",
       "    <tr style=\"text-align: right;\">\n",
       "      <th></th>\n",
       "      <th>housing_median_age</th>\n",
       "      <th>total_rooms</th>\n",
       "      <th>total_bedrooms</th>\n",
       "      <th>population</th>\n",
       "      <th>households</th>\n",
       "      <th>median_income</th>\n",
       "      <th>median_house_value</th>\n",
       "    </tr>\n",
       "  </thead>\n",
       "  <tbody>\n",
       "    <tr>\n",
       "      <th>housing_median_age</th>\n",
       "      <td>1.000000</td>\n",
       "      <td>-0.361262</td>\n",
       "      <td>-0.318998</td>\n",
       "      <td>-0.296244</td>\n",
       "      <td>-0.302916</td>\n",
       "      <td>-0.119034</td>\n",
       "      <td>0.105623</td>\n",
       "    </tr>\n",
       "    <tr>\n",
       "      <th>total_rooms</th>\n",
       "      <td>-0.361262</td>\n",
       "      <td>1.000000</td>\n",
       "      <td>0.927253</td>\n",
       "      <td>0.857126</td>\n",
       "      <td>0.918484</td>\n",
       "      <td>0.198050</td>\n",
       "      <td>0.134153</td>\n",
       "    </tr>\n",
       "    <tr>\n",
       "      <th>total_bedrooms</th>\n",
       "      <td>-0.318998</td>\n",
       "      <td>0.927253</td>\n",
       "      <td>1.000000</td>\n",
       "      <td>0.873910</td>\n",
       "      <td>0.974725</td>\n",
       "      <td>-0.007682</td>\n",
       "      <td>0.049454</td>\n",
       "    </tr>\n",
       "    <tr>\n",
       "      <th>population</th>\n",
       "      <td>-0.296244</td>\n",
       "      <td>0.857126</td>\n",
       "      <td>0.873910</td>\n",
       "      <td>1.000000</td>\n",
       "      <td>0.907222</td>\n",
       "      <td>0.004834</td>\n",
       "      <td>-0.024650</td>\n",
       "    </tr>\n",
       "    <tr>\n",
       "      <th>households</th>\n",
       "      <td>-0.302916</td>\n",
       "      <td>0.918484</td>\n",
       "      <td>0.974725</td>\n",
       "      <td>0.907222</td>\n",
       "      <td>1.000000</td>\n",
       "      <td>0.013033</td>\n",
       "      <td>0.065843</td>\n",
       "    </tr>\n",
       "    <tr>\n",
       "      <th>median_income</th>\n",
       "      <td>-0.119034</td>\n",
       "      <td>0.198050</td>\n",
       "      <td>-0.007682</td>\n",
       "      <td>0.004834</td>\n",
       "      <td>0.013033</td>\n",
       "      <td>1.000000</td>\n",
       "      <td>0.688075</td>\n",
       "    </tr>\n",
       "    <tr>\n",
       "      <th>median_house_value</th>\n",
       "      <td>0.105623</td>\n",
       "      <td>0.134153</td>\n",
       "      <td>0.049454</td>\n",
       "      <td>-0.024650</td>\n",
       "      <td>0.065843</td>\n",
       "      <td>0.688075</td>\n",
       "      <td>1.000000</td>\n",
       "    </tr>\n",
       "  </tbody>\n",
       "</table>\n",
       "</div>"
      ],
      "text/plain": [
       "                    housing_median_age  total_rooms  total_bedrooms  \\\n",
       "housing_median_age            1.000000    -0.361262       -0.318998   \n",
       "total_rooms                  -0.361262     1.000000        0.927253   \n",
       "total_bedrooms               -0.318998     0.927253        1.000000   \n",
       "population                   -0.296244     0.857126        0.873910   \n",
       "households                   -0.302916     0.918484        0.974725   \n",
       "median_income                -0.119034     0.198050       -0.007682   \n",
       "median_house_value            0.105623     0.134153        0.049454   \n",
       "\n",
       "                    population  households  median_income  median_house_value  \n",
       "housing_median_age   -0.296244   -0.302916      -0.119034            0.105623  \n",
       "total_rooms           0.857126    0.918484       0.198050            0.134153  \n",
       "total_bedrooms        0.873910    0.974725      -0.007682            0.049454  \n",
       "population            1.000000    0.907222       0.004834           -0.024650  \n",
       "households            0.907222    1.000000       0.013033            0.065843  \n",
       "median_income         0.004834    0.013033       1.000000            0.688075  \n",
       "median_house_value   -0.024650    0.065843       0.688075            1.000000  "
      ]
     },
     "execution_count": 55,
     "metadata": {},
     "output_type": "execute_result"
    }
   ],
   "source": [
    "df.corr() #check correlarion & remove variables to avoid multicollinearity"
   ]
  },
  {
   "cell_type": "code",
   "execution_count": 56,
   "id": "experimental-blood",
   "metadata": {
    "execution": {
     "iopub.execute_input": "2021-07-04T18:19:30.132385Z",
     "iopub.status.busy": "2021-07-04T18:19:30.131543Z",
     "iopub.status.idle": "2021-07-04T18:19:30.592322Z",
     "shell.execute_reply": "2021-07-04T18:19:30.591666Z"
    },
    "papermill": {
     "duration": 0.520693,
     "end_time": "2021-07-04T18:19:30.592458",
     "exception": false,
     "start_time": "2021-07-04T18:19:30.071765",
     "status": "completed"
    },
    "tags": []
   },
   "outputs": [
    {
     "data": {
      "image/png": "[encoded data removed]",
      "text/plain": [
       "<Figure size 432x288 with 2 Axes>"
      ]
     },
     "metadata": {
      "needs_background": "light"
     },
     "output_type": "display_data"
    }
   ],
   "source": [
    "sns.heatmap(df.corr(),annot=True);"
   ]
  },
  {
   "cell_type": "code",
   "execution_count": null,
   "id": "athletic-webster",
   "metadata": {
    "papermill": {
     "duration": 0.057647,
     "end_time": "2021-07-04T18:19:30.705278",
     "exception": false,
     "start_time": "2021-07-04T18:19:30.647631",
     "status": "completed"
    },
    "tags": []
   },
   "outputs": [],
   "source": []
  },
  {
   "cell_type": "code",
   "execution_count": 57,
   "id": "continent-blade",
   "metadata": {
    "execution": {
     "iopub.execute_input": "2021-07-04T18:19:30.823967Z",
     "iopub.status.busy": "2021-07-04T18:19:30.822034Z",
     "iopub.status.idle": "2021-07-04T18:19:32.041160Z",
     "shell.execute_reply": "2021-07-04T18:19:32.040577Z"
    },
    "papermill": {
     "duration": 1.278295,
     "end_time": "2021-07-04T18:19:32.041283",
     "exception": false,
     "start_time": "2021-07-04T18:19:30.762988",
     "status": "completed"
    },
    "tags": []
   },
   "outputs": [
    {
     "data": {
      "image/png": "[encoded data removed]",
      "text/plain": [
       "<Figure size 1440x1080 with 9 Axes>"
      ]
     },
     "metadata": {
      "needs_background": "light"
     },
     "output_type": "display_data"
    }
   ],
   "source": [
    "df.hist(figsize=(20,15));"
   ]
  },
  {
   "cell_type": "markdown",
   "id": "infectious-federal",
   "metadata": {
    "papermill": {
     "duration": 0.055886,
     "end_time": "2021-07-04T18:19:32.154871",
     "exception": false,
     "start_time": "2021-07-04T18:19:32.098985",
     "status": "completed"
    },
    "tags": []
   },
   "source": [
    "### We can see that only median house age is normally distributed rest all are right skewed"
   ]
  },
  {
   "cell_type": "code",
   "execution_count": 58,
   "id": "plain-letter",
   "metadata": {
    "execution": {
     "iopub.execute_input": "2021-07-04T18:19:32.274652Z",
     "iopub.status.busy": "2021-07-04T18:19:32.273745Z",
     "iopub.status.idle": "2021-07-04T18:19:32.494985Z",
     "shell.execute_reply": "2021-07-04T18:19:32.495419Z"
    },
    "papermill": {
     "duration": 0.284318,
     "end_time": "2021-07-04T18:19:32.495570",
     "exception": false,
     "start_time": "2021-07-04T18:19:32.211252",
     "status": "completed"
    },
    "tags": []
   },
   "outputs": [
    {
     "data": {
      "image/png": "[encoded data removed]",
      "text/plain": [
       "<Figure size 432x288 with 1 Axes>"
      ]
     },
     "metadata": {
      "needs_background": "light"
     },
     "output_type": "display_data"
    }
   ],
   "source": [
    "sns.scatterplot(data=df,x='median_income',y='median_house_value')\n",
    "plt.title('Median Income vs Median House value');"
   ]
  },
  {
   "cell_type": "markdown",
   "id": "recreational-objective",
   "metadata": {
    "papermill": {
     "duration": 0.064897,
     "end_time": "2021-07-04T18:19:32.620272",
     "exception": false,
     "start_time": "2021-07-04T18:19:32.555375",
     "status": "completed"
    },
    "tags": []
   },
   "source": [
    "#### Above plot tells us that there is a positive relation b/w the median income and median house value telling us that more the income of the houseolds , they buy expensive property"
   ]
  },
  {
   "cell_type": "code",
   "execution_count": 59,
   "id": "aerial-trade",
   "metadata": {
    "execution": {
     "iopub.execute_input": "2021-07-04T18:19:32.741422Z",
     "iopub.status.busy": "2021-07-04T18:19:32.740869Z",
     "iopub.status.idle": "2021-07-04T18:19:32.843497Z",
     "shell.execute_reply": "2021-07-04T18:19:32.843914Z"
    },
    "papermill": {
     "duration": 0.165459,
     "end_time": "2021-07-04T18:19:32.844071",
     "exception": false,
     "start_time": "2021-07-04T18:19:32.678612",
     "status": "completed"
    },
    "tags": []
   },
   "outputs": [
    {
     "data": {
      "image/png": "[encoded data removed]",
      "text/plain": [
       "<Figure size 432x288 with 1 Axes>"
      ]
     },
     "metadata": {
      "needs_background": "light"
     },
     "output_type": "display_data"
    }
   ],
   "source": [
    "sns.boxplot(data=df,y='median_house_value'); #let's see the box plot to see the mean house price "
   ]
  },
  {
   "cell_type": "code",
   "execution_count": 60,
   "id": "spanish-mustang",
   "metadata": {
    "execution": {
     "iopub.execute_input": "2021-07-04T18:19:32.967125Z",
     "iopub.status.busy": "2021-07-04T18:19:32.966561Z",
     "iopub.status.idle": "2021-07-04T18:19:32.972161Z",
     "shell.execute_reply": "2021-07-04T18:19:32.971653Z"
    },
    "papermill": {
     "duration": 0.067167,
     "end_time": "2021-07-04T18:19:32.972324",
     "exception": false,
     "start_time": "2021-07-04T18:19:32.905157",
     "status": "completed"
    },
    "tags": []
   },
   "outputs": [
    {
     "data": {
      "text/plain": [
       "206855.81690891474"
      ]
     },
     "execution_count": 60,
     "metadata": {},
     "output_type": "execute_result"
    }
   ],
   "source": [
    "df['median_house_value'].mean()"
   ]
  },
  {
   "cell_type": "code",
   "execution_count": 61,
   "id": "individual-strain",
   "metadata": {
    "execution": {
     "iopub.execute_input": "2021-07-04T18:19:33.096947Z",
     "iopub.status.busy": "2021-07-04T18:19:33.096311Z",
     "iopub.status.idle": "2021-07-04T18:19:33.283016Z",
     "shell.execute_reply": "2021-07-04T18:19:33.283553Z"
    },
    "papermill": {
     "duration": 0.250152,
     "end_time": "2021-07-04T18:19:33.283706",
     "exception": false,
     "start_time": "2021-07-04T18:19:33.033554",
     "status": "completed"
    },
    "tags": []
   },
   "outputs": [
    {
     "data": {
      "image/png": "[encoded data removed]",
      "text/plain": [
       "<Figure size 432x288 with 1 Axes>"
      ]
     },
     "metadata": {
      "needs_background": "light"
     },
     "output_type": "display_data"
    }
   ],
   "source": [
    "sns.scatterplot(data=df,x='total_rooms',y='median_house_value')\n",
    "plt.title('Total no of rooms vs Median House value');"
   ]
  },
  {
   "cell_type": "code",
   "execution_count": 62,
   "id": "legitimate-forge",
   "metadata": {
    "execution": {
     "iopub.execute_input": "2021-07-04T18:19:33.409920Z",
     "iopub.status.busy": "2021-07-04T18:19:33.409364Z",
     "iopub.status.idle": "2021-07-04T18:19:33.591853Z",
     "shell.execute_reply": "2021-07-04T18:19:33.591419Z"
    },
    "papermill": {
     "duration": 0.247732,
     "end_time": "2021-07-04T18:19:33.591976",
     "exception": false,
     "start_time": "2021-07-04T18:19:33.344244",
     "status": "completed"
    },
    "tags": []
   },
   "outputs": [
    {
     "data": {
      "image/png": "[encoded data removed]",
      "text/plain": [
       "<Figure size 432x288 with 1 Axes>"
      ]
     },
     "metadata": {
      "needs_background": "light"
     },
     "output_type": "display_data"
    }
   ],
   "source": [
    "sns.scatterplot(data=df,x='total_bedrooms',y='median_house_value')\n",
    "plt.title('Total no of rooms vs Median House value');"
   ]
  },
  {
   "cell_type": "code",
   "execution_count": 63,
   "id": "reverse-secretariat",
   "metadata": {
    "execution": {
     "iopub.execute_input": "2021-07-04T18:19:33.726254Z",
     "iopub.status.busy": "2021-07-04T18:19:33.725631Z",
     "iopub.status.idle": "2021-07-04T18:19:34.143050Z",
     "shell.execute_reply": "2021-07-04T18:19:34.141943Z"
    },
    "papermill": {
     "duration": 0.487,
     "end_time": "2021-07-04T18:19:34.143200",
     "exception": false,
     "start_time": "2021-07-04T18:19:33.656200",
     "status": "completed"
    },
    "tags": []
   },
   "outputs": [
    {
     "data": {
      "image/png": "[encoded data removed]",
      "text/plain": [
       "<Figure size 360x360 with 1 Axes>"
      ]
     },
     "metadata": {
      "needs_background": "light"
     },
     "output_type": "display_data"
    }
   ],
   "source": [
    "# Let's see the distribution of of the Median house age\n",
    "sns.displot(data=df,x='housing_median_age',kde=True);"
   ]
  },
  {
   "cell_type": "code",
   "execution_count": 64,
   "id": "collective-lincoln",
   "metadata": {
    "execution": {
     "iopub.execute_input": "2021-07-04T18:19:34.285997Z",
     "iopub.status.busy": "2021-07-04T18:19:34.285255Z",
     "iopub.status.idle": "2021-07-04T18:19:34.410355Z",
     "shell.execute_reply": "2021-07-04T18:19:34.409910Z"
    },
    "papermill": {
     "duration": 0.202352,
     "end_time": "2021-07-04T18:19:34.410484",
     "exception": false,
     "start_time": "2021-07-04T18:19:34.208132",
     "status": "completed"
    },
    "tags": []
   },
   "outputs": [
    {
     "data": {
      "text/plain": [
       "<1H OCEAN     9136\n",
       "INLAND        6551\n",
       "NEAR OCEAN    2658\n",
       "NEAR BAY      2290\n",
       "ISLAND           5\n",
       "Name: ocean_proximity, dtype: int64"
      ]
     },
     "execution_count": 64,
     "metadata": {},
     "output_type": "execute_result"
    },
    {
     "data": {
      "image/png": "[encoded data removed]",
      "text/plain": [
       "<Figure size 432x288 with 1 Axes>"
      ]
     },
     "metadata": {
      "needs_background": "light"
     },
     "output_type": "display_data"
    }
   ],
   "source": [
    "sns.countplot(data=df,x='ocean_proximity');\n",
    "df['ocean_proximity'].value_counts()"
   ]
  },
  {
   "cell_type": "code",
   "execution_count": 65,
   "id": "polished-petersburg",
   "metadata": {
    "execution": {
     "iopub.execute_input": "2021-07-04T18:19:34.548025Z",
     "iopub.status.busy": "2021-07-04T18:19:34.547038Z",
     "iopub.status.idle": "2021-07-04T18:19:34.577470Z",
     "shell.execute_reply": "2021-07-04T18:19:34.576975Z"
    },
    "papermill": {
     "duration": 0.101383,
     "end_time": "2021-07-04T18:19:34.577599",
     "exception": false,
     "start_time": "2021-07-04T18:19:34.476216",
     "status": "completed"
    },
    "tags": []
   },
   "outputs": [
    {
     "data": {
      "text/html": [
       "<div>\n",
       "<style scoped>\n",
       "    .dataframe tbody tr th:only-of-type {\n",
       "        vertical-align: middle;\n",
       "    }\n",
       "\n",
       "    .dataframe tbody tr th {\n",
       "        vertical-align: top;\n",
       "    }\n",
       "\n",
       "    .dataframe thead th {\n",
       "        text-align: right;\n",
       "    }\n",
       "</style>\n",
       "<table border=\"1\" class=\"dataframe\">\n",
       "  <thead>\n",
       "    <tr style=\"text-align: right;\">\n",
       "      <th></th>\n",
       "      <th>housing_median_age</th>\n",
       "      <th>total_rooms</th>\n",
       "      <th>total_bedrooms</th>\n",
       "      <th>population</th>\n",
       "      <th>households</th>\n",
       "      <th>median_income</th>\n",
       "      <th>median_house_value</th>\n",
       "    </tr>\n",
       "  </thead>\n",
       "  <tbody>\n",
       "    <tr>\n",
       "      <th>count</th>\n",
       "      <td>9136.000000</td>\n",
       "      <td>9136.000000</td>\n",
       "      <td>9136.000000</td>\n",
       "      <td>9136.000000</td>\n",
       "      <td>9136.000000</td>\n",
       "      <td>9136.000000</td>\n",
       "      <td>9136.000000</td>\n",
       "    </tr>\n",
       "    <tr>\n",
       "      <th>mean</th>\n",
       "      <td>29.279225</td>\n",
       "      <td>2628.343586</td>\n",
       "      <td>546.442403</td>\n",
       "      <td>1520.290499</td>\n",
       "      <td>517.744965</td>\n",
       "      <td>4.230682</td>\n",
       "      <td>240084.285464</td>\n",
       "    </tr>\n",
       "    <tr>\n",
       "      <th>std</th>\n",
       "      <td>11.644453</td>\n",
       "      <td>2160.463696</td>\n",
       "      <td>425.516689</td>\n",
       "      <td>1185.848357</td>\n",
       "      <td>392.280718</td>\n",
       "      <td>2.001223</td>\n",
       "      <td>106124.292213</td>\n",
       "    </tr>\n",
       "    <tr>\n",
       "      <th>min</th>\n",
       "      <td>2.000000</td>\n",
       "      <td>11.000000</td>\n",
       "      <td>5.000000</td>\n",
       "      <td>3.000000</td>\n",
       "      <td>4.000000</td>\n",
       "      <td>0.499900</td>\n",
       "      <td>17500.000000</td>\n",
       "    </tr>\n",
       "    <tr>\n",
       "      <th>25%</th>\n",
       "      <td>20.000000</td>\n",
       "      <td>1464.000000</td>\n",
       "      <td>304.000000</td>\n",
       "      <td>857.750000</td>\n",
       "      <td>293.000000</td>\n",
       "      <td>2.864900</td>\n",
       "      <td>164100.000000</td>\n",
       "    </tr>\n",
       "    <tr>\n",
       "      <th>50%</th>\n",
       "      <td>30.000000</td>\n",
       "      <td>2108.000000</td>\n",
       "      <td>442.000000</td>\n",
       "      <td>1247.000000</td>\n",
       "      <td>421.000000</td>\n",
       "      <td>3.875000</td>\n",
       "      <td>214850.000000</td>\n",
       "    </tr>\n",
       "    <tr>\n",
       "      <th>75%</th>\n",
       "      <td>37.000000</td>\n",
       "      <td>3141.000000</td>\n",
       "      <td>648.000000</td>\n",
       "      <td>1848.000000</td>\n",
       "      <td>617.000000</td>\n",
       "      <td>5.180500</td>\n",
       "      <td>289100.000000</td>\n",
       "    </tr>\n",
       "    <tr>\n",
       "      <th>max</th>\n",
       "      <td>52.000000</td>\n",
       "      <td>37937.000000</td>\n",
       "      <td>6445.000000</td>\n",
       "      <td>35682.000000</td>\n",
       "      <td>6082.000000</td>\n",
       "      <td>15.000100</td>\n",
       "      <td>500001.000000</td>\n",
       "    </tr>\n",
       "  </tbody>\n",
       "</table>\n",
       "</div>"
      ],
      "text/plain": [
       "       housing_median_age   total_rooms  total_bedrooms    population  \\\n",
       "count         9136.000000   9136.000000     9136.000000   9136.000000   \n",
       "mean            29.279225   2628.343586      546.442403   1520.290499   \n",
       "std             11.644453   2160.463696      425.516689   1185.848357   \n",
       "min              2.000000     11.000000        5.000000      3.000000   \n",
       "25%             20.000000   1464.000000      304.000000    857.750000   \n",
       "50%             30.000000   2108.000000      442.000000   1247.000000   \n",
       "75%             37.000000   3141.000000      648.000000   1848.000000   \n",
       "max             52.000000  37937.000000     6445.000000  35682.000000   \n",
       "\n",
       "        households  median_income  median_house_value  \n",
       "count  9136.000000    9136.000000         9136.000000  \n",
       "mean    517.744965       4.230682       240084.285464  \n",
       "std     392.280718       2.001223       106124.292213  \n",
       "min       4.000000       0.499900        17500.000000  \n",
       "25%     293.000000       2.864900       164100.000000  \n",
       "50%     421.000000       3.875000       214850.000000  \n",
       "75%     617.000000       5.180500       289100.000000  \n",
       "max    6082.000000      15.000100       500001.000000  "
      ]
     },
     "execution_count": 65,
     "metadata": {},
     "output_type": "execute_result"
    }
   ],
   "source": [
    "house_near_onehocean = df[df['ocean_proximity'] == '<1H OCEAN']\n",
    "house_near_onehocean.describe()"
   ]
  },
  {
   "cell_type": "code",
   "execution_count": null,
   "id": "sought-pierce",
   "metadata": {
    "papermill": {
     "duration": 0.065452,
     "end_time": "2021-07-04T18:19:34.707873",
     "exception": false,
     "start_time": "2021-07-04T18:19:34.642421",
     "status": "completed"
    },
    "tags": []
   },
   "outputs": [],
   "source": []
  },
  {
   "cell_type": "code",
   "execution_count": 66,
   "id": "present-czech",
   "metadata": {
    "execution": {
     "iopub.execute_input": "2021-07-04T18:19:34.846557Z",
     "iopub.status.busy": "2021-07-04T18:19:34.845913Z",
     "iopub.status.idle": "2021-07-04T18:19:34.859059Z",
     "shell.execute_reply": "2021-07-04T18:19:34.858597Z"
    },
    "papermill": {
     "duration": 0.085287,
     "end_time": "2021-07-04T18:19:34.859173",
     "exception": false,
     "start_time": "2021-07-04T18:19:34.773886",
     "status": "completed"
    },
    "tags": []
   },
   "outputs": [
    {
     "data": {
      "text/html": [
       "<div>\n",
       "<style scoped>\n",
       "    .dataframe tbody tr th:only-of-type {\n",
       "        vertical-align: middle;\n",
       "    }\n",
       "\n",
       "    .dataframe tbody tr th {\n",
       "        vertical-align: top;\n",
       "    }\n",
       "\n",
       "    .dataframe thead th {\n",
       "        text-align: right;\n",
       "    }\n",
       "</style>\n",
       "<table border=\"1\" class=\"dataframe\">\n",
       "  <thead>\n",
       "    <tr style=\"text-align: right;\">\n",
       "      <th></th>\n",
       "      <th>housing_median_age</th>\n",
       "      <th>total_rooms</th>\n",
       "      <th>total_bedrooms</th>\n",
       "      <th>population</th>\n",
       "      <th>households</th>\n",
       "      <th>median_income</th>\n",
       "      <th>median_house_value</th>\n",
       "    </tr>\n",
       "    <tr>\n",
       "      <th>ocean_proximity</th>\n",
       "      <th></th>\n",
       "      <th></th>\n",
       "      <th></th>\n",
       "      <th></th>\n",
       "      <th></th>\n",
       "      <th></th>\n",
       "      <th></th>\n",
       "    </tr>\n",
       "  </thead>\n",
       "  <tbody>\n",
       "    <tr>\n",
       "      <th>&lt;1H OCEAN</th>\n",
       "      <td>29.279225</td>\n",
       "      <td>2628.343586</td>\n",
       "      <td>546.442403</td>\n",
       "      <td>1520.290499</td>\n",
       "      <td>517.744965</td>\n",
       "      <td>4.230682</td>\n",
       "      <td>240084.285464</td>\n",
       "    </tr>\n",
       "    <tr>\n",
       "      <th>INLAND</th>\n",
       "      <td>24.271867</td>\n",
       "      <td>2717.742787</td>\n",
       "      <td>533.915109</td>\n",
       "      <td>1391.046252</td>\n",
       "      <td>477.447565</td>\n",
       "      <td>3.208996</td>\n",
       "      <td>124805.392001</td>\n",
       "    </tr>\n",
       "    <tr>\n",
       "      <th>ISLAND</th>\n",
       "      <td>42.400000</td>\n",
       "      <td>1574.600000</td>\n",
       "      <td>420.400000</td>\n",
       "      <td>668.000000</td>\n",
       "      <td>276.600000</td>\n",
       "      <td>2.744420</td>\n",
       "      <td>380440.000000</td>\n",
       "    </tr>\n",
       "    <tr>\n",
       "      <th>NEAR BAY</th>\n",
       "      <td>37.730131</td>\n",
       "      <td>2493.589520</td>\n",
       "      <td>514.389699</td>\n",
       "      <td>1230.317467</td>\n",
       "      <td>488.616157</td>\n",
       "      <td>4.172885</td>\n",
       "      <td>259212.311790</td>\n",
       "    </tr>\n",
       "    <tr>\n",
       "      <th>NEAR OCEAN</th>\n",
       "      <td>29.347254</td>\n",
       "      <td>2583.700903</td>\n",
       "      <td>538.607267</td>\n",
       "      <td>1354.008653</td>\n",
       "      <td>501.244545</td>\n",
       "      <td>4.005785</td>\n",
       "      <td>249433.977427</td>\n",
       "    </tr>\n",
       "  </tbody>\n",
       "</table>\n",
       "</div>"
      ],
      "text/plain": [
       "                 housing_median_age  total_rooms  total_bedrooms   population  \\\n",
       "ocean_proximity                                                                 \n",
       "<1H OCEAN                 29.279225  2628.343586      546.442403  1520.290499   \n",
       "INLAND                    24.271867  2717.742787      533.915109  1391.046252   \n",
       "ISLAND                    42.400000  1574.600000      420.400000   668.000000   \n",
       "NEAR BAY                  37.730131  2493.589520      514.389699  1230.317467   \n",
       "NEAR OCEAN                29.347254  2583.700903      538.607267  1354.008653   \n",
       "\n",
       "                 households  median_income  median_house_value  \n",
       "ocean_proximity                                                 \n",
       "<1H OCEAN        517.744965       4.230682       240084.285464  \n",
       "INLAND           477.447565       3.208996       124805.392001  \n",
       "ISLAND           276.600000       2.744420       380440.000000  \n",
       "NEAR BAY         488.616157       4.172885       259212.311790  \n",
       "NEAR OCEAN       501.244545       4.005785       249433.977427  "
      ]
     },
     "execution_count": 66,
     "metadata": {},
     "output_type": "execute_result"
    }
   ],
   "source": [
    "df.groupby('ocean_proximity').mean()"
   ]
  },
  {
   "cell_type": "markdown",
   "id": "explicit-device",
   "metadata": {
    "papermill": {
     "duration": 0.064962,
     "end_time": "2021-07-04T18:19:34.989858",
     "exception": false,
     "start_time": "2021-07-04T18:19:34.924896",
     "status": "completed"
    },
    "tags": []
   },
   "source": [
    "### Let's seperate the data by ocean proxmity and then see detailed information to gain insight"
   ]
  },
  {
   "cell_type": "code",
   "execution_count": 67,
   "id": "mechanical-allah",
   "metadata": {
    "execution": {
     "iopub.execute_input": "2021-07-04T18:19:35.125929Z",
     "iopub.status.busy": "2021-07-04T18:19:35.125378Z",
     "iopub.status.idle": "2021-07-04T18:19:35.158206Z",
     "shell.execute_reply": "2021-07-04T18:19:35.157771Z"
    },
    "papermill": {
     "duration": 0.103131,
     "end_time": "2021-07-04T18:19:35.158333",
     "exception": false,
     "start_time": "2021-07-04T18:19:35.055202",
     "status": "completed"
    },
    "tags": []
   },
   "outputs": [
    {
     "data": {
      "text/html": [
       "<div>\n",
       "<style scoped>\n",
       "    .dataframe tbody tr th:only-of-type {\n",
       "        vertical-align: middle;\n",
       "    }\n",
       "\n",
       "    .dataframe tbody tr th {\n",
       "        vertical-align: top;\n",
       "    }\n",
       "\n",
       "    .dataframe thead th {\n",
       "        text-align: right;\n",
       "    }\n",
       "</style>\n",
       "<table border=\"1\" class=\"dataframe\">\n",
       "  <thead>\n",
       "    <tr style=\"text-align: right;\">\n",
       "      <th></th>\n",
       "      <th>housing_median_age</th>\n",
       "      <th>total_rooms</th>\n",
       "      <th>total_bedrooms</th>\n",
       "      <th>population</th>\n",
       "      <th>households</th>\n",
       "      <th>median_income</th>\n",
       "      <th>median_house_value</th>\n",
       "    </tr>\n",
       "  </thead>\n",
       "  <tbody>\n",
       "    <tr>\n",
       "      <th>count</th>\n",
       "      <td>6551.000000</td>\n",
       "      <td>6551.000000</td>\n",
       "      <td>6551.000000</td>\n",
       "      <td>6551.000000</td>\n",
       "      <td>6551.000000</td>\n",
       "      <td>6551.000000</td>\n",
       "      <td>6551.000000</td>\n",
       "    </tr>\n",
       "    <tr>\n",
       "      <th>mean</th>\n",
       "      <td>24.271867</td>\n",
       "      <td>2717.742787</td>\n",
       "      <td>533.915109</td>\n",
       "      <td>1391.046252</td>\n",
       "      <td>477.447565</td>\n",
       "      <td>3.208996</td>\n",
       "      <td>124805.392001</td>\n",
       "    </tr>\n",
       "    <tr>\n",
       "      <th>std</th>\n",
       "      <td>12.018020</td>\n",
       "      <td>2385.831111</td>\n",
       "      <td>444.240965</td>\n",
       "      <td>1168.670126</td>\n",
       "      <td>392.252095</td>\n",
       "      <td>1.437465</td>\n",
       "      <td>70007.908494</td>\n",
       "    </tr>\n",
       "    <tr>\n",
       "      <th>min</th>\n",
       "      <td>1.000000</td>\n",
       "      <td>2.000000</td>\n",
       "      <td>2.000000</td>\n",
       "      <td>5.000000</td>\n",
       "      <td>2.000000</td>\n",
       "      <td>0.499900</td>\n",
       "      <td>14999.000000</td>\n",
       "    </tr>\n",
       "    <tr>\n",
       "      <th>25%</th>\n",
       "      <td>15.000000</td>\n",
       "      <td>1404.000000</td>\n",
       "      <td>283.000000</td>\n",
       "      <td>722.000000</td>\n",
       "      <td>254.000000</td>\n",
       "      <td>2.188950</td>\n",
       "      <td>77500.000000</td>\n",
       "    </tr>\n",
       "    <tr>\n",
       "      <th>50%</th>\n",
       "      <td>23.000000</td>\n",
       "      <td>2131.000000</td>\n",
       "      <td>426.000000</td>\n",
       "      <td>1124.000000</td>\n",
       "      <td>385.000000</td>\n",
       "      <td>2.987700</td>\n",
       "      <td>108500.000000</td>\n",
       "    </tr>\n",
       "    <tr>\n",
       "      <th>75%</th>\n",
       "      <td>33.000000</td>\n",
       "      <td>3216.000000</td>\n",
       "      <td>633.500000</td>\n",
       "      <td>1687.000000</td>\n",
       "      <td>578.000000</td>\n",
       "      <td>3.961500</td>\n",
       "      <td>148950.000000</td>\n",
       "    </tr>\n",
       "    <tr>\n",
       "      <th>max</th>\n",
       "      <td>52.000000</td>\n",
       "      <td>39320.000000</td>\n",
       "      <td>6210.000000</td>\n",
       "      <td>16305.000000</td>\n",
       "      <td>5358.000000</td>\n",
       "      <td>15.000100</td>\n",
       "      <td>500001.000000</td>\n",
       "    </tr>\n",
       "  </tbody>\n",
       "</table>\n",
       "</div>"
      ],
      "text/plain": [
       "       housing_median_age   total_rooms  total_bedrooms    population  \\\n",
       "count         6551.000000   6551.000000     6551.000000   6551.000000   \n",
       "mean            24.271867   2717.742787      533.915109   1391.046252   \n",
       "std             12.018020   2385.831111      444.240965   1168.670126   \n",
       "min              1.000000      2.000000        2.000000      5.000000   \n",
       "25%             15.000000   1404.000000      283.000000    722.000000   \n",
       "50%             23.000000   2131.000000      426.000000   1124.000000   \n",
       "75%             33.000000   3216.000000      633.500000   1687.000000   \n",
       "max             52.000000  39320.000000     6210.000000  16305.000000   \n",
       "\n",
       "        households  median_income  median_house_value  \n",
       "count  6551.000000    6551.000000         6551.000000  \n",
       "mean    477.447565       3.208996       124805.392001  \n",
       "std     392.252095       1.437465        70007.908494  \n",
       "min       2.000000       0.499900        14999.000000  \n",
       "25%     254.000000       2.188950        77500.000000  \n",
       "50%     385.000000       2.987700       108500.000000  \n",
       "75%     578.000000       3.961500       148950.000000  \n",
       "max    5358.000000      15.000100       500001.000000  "
      ]
     },
     "execution_count": 67,
     "metadata": {},
     "output_type": "execute_result"
    }
   ],
   "source": [
    "house_near_inland = df[df['ocean_proximity'] == 'INLAND']\n",
    "house_near_inland.describe()"
   ]
  },
  {
   "cell_type": "code",
   "execution_count": null,
   "id": "sealed-accuracy",
   "metadata": {
    "papermill": {
     "duration": 0.06836,
     "end_time": "2021-07-04T18:19:35.294376",
     "exception": false,
     "start_time": "2021-07-04T18:19:35.226016",
     "status": "completed"
    },
    "tags": []
   },
   "outputs": [],
   "source": []
  },
  {
   "cell_type": "code",
   "execution_count": 68,
   "id": "suitable-boutique",
   "metadata": {
    "execution": {
     "iopub.execute_input": "2021-07-04T18:19:35.436774Z",
     "iopub.status.busy": "2021-07-04T18:19:35.436201Z",
     "iopub.status.idle": "2021-07-04T18:19:35.464058Z",
     "shell.execute_reply": "2021-07-04T18:19:35.463583Z"
    },
    "papermill": {
     "duration": 0.102318,
     "end_time": "2021-07-04T18:19:35.464172",
     "exception": false,
     "start_time": "2021-07-04T18:19:35.361854",
     "status": "completed"
    },
    "tags": []
   },
   "outputs": [
    {
     "data": {
      "text/html": [
       "<div>\n",
       "<style scoped>\n",
       "    .dataframe tbody tr th:only-of-type {\n",
       "        vertical-align: middle;\n",
       "    }\n",
       "\n",
       "    .dataframe tbody tr th {\n",
       "        vertical-align: top;\n",
       "    }\n",
       "\n",
       "    .dataframe thead th {\n",
       "        text-align: right;\n",
       "    }\n",
       "</style>\n",
       "<table border=\"1\" class=\"dataframe\">\n",
       "  <thead>\n",
       "    <tr style=\"text-align: right;\">\n",
       "      <th></th>\n",
       "      <th>housing_median_age</th>\n",
       "      <th>total_rooms</th>\n",
       "      <th>total_bedrooms</th>\n",
       "      <th>population</th>\n",
       "      <th>households</th>\n",
       "      <th>median_income</th>\n",
       "      <th>median_house_value</th>\n",
       "    </tr>\n",
       "  </thead>\n",
       "  <tbody>\n",
       "    <tr>\n",
       "      <th>count</th>\n",
       "      <td>2290.000000</td>\n",
       "      <td>2290.000000</td>\n",
       "      <td>2290.000000</td>\n",
       "      <td>2290.000000</td>\n",
       "      <td>2290.000000</td>\n",
       "      <td>2290.000000</td>\n",
       "      <td>2290.000000</td>\n",
       "    </tr>\n",
       "    <tr>\n",
       "      <th>mean</th>\n",
       "      <td>37.730131</td>\n",
       "      <td>2493.589520</td>\n",
       "      <td>514.389699</td>\n",
       "      <td>1230.317467</td>\n",
       "      <td>488.616157</td>\n",
       "      <td>4.172885</td>\n",
       "      <td>259212.311790</td>\n",
       "    </tr>\n",
       "    <tr>\n",
       "      <th>std</th>\n",
       "      <td>13.070385</td>\n",
       "      <td>1830.817022</td>\n",
       "      <td>366.283515</td>\n",
       "      <td>885.899035</td>\n",
       "      <td>350.598369</td>\n",
       "      <td>2.017427</td>\n",
       "      <td>122818.537064</td>\n",
       "    </tr>\n",
       "    <tr>\n",
       "      <th>min</th>\n",
       "      <td>2.000000</td>\n",
       "      <td>8.000000</td>\n",
       "      <td>1.000000</td>\n",
       "      <td>8.000000</td>\n",
       "      <td>1.000000</td>\n",
       "      <td>0.499900</td>\n",
       "      <td>22500.000000</td>\n",
       "    </tr>\n",
       "    <tr>\n",
       "      <th>25%</th>\n",
       "      <td>29.000000</td>\n",
       "      <td>1431.250000</td>\n",
       "      <td>290.000000</td>\n",
       "      <td>718.250000</td>\n",
       "      <td>275.000000</td>\n",
       "      <td>2.834750</td>\n",
       "      <td>162500.000000</td>\n",
       "    </tr>\n",
       "    <tr>\n",
       "      <th>50%</th>\n",
       "      <td>39.000000</td>\n",
       "      <td>2083.000000</td>\n",
       "      <td>425.500000</td>\n",
       "      <td>1033.500000</td>\n",
       "      <td>406.000000</td>\n",
       "      <td>3.818650</td>\n",
       "      <td>233800.000000</td>\n",
       "    </tr>\n",
       "    <tr>\n",
       "      <th>75%</th>\n",
       "      <td>52.000000</td>\n",
       "      <td>3029.750000</td>\n",
       "      <td>626.000000</td>\n",
       "      <td>1495.000000</td>\n",
       "      <td>599.250000</td>\n",
       "      <td>5.054425</td>\n",
       "      <td>345700.000000</td>\n",
       "    </tr>\n",
       "    <tr>\n",
       "      <th>max</th>\n",
       "      <td>52.000000</td>\n",
       "      <td>18634.000000</td>\n",
       "      <td>3226.000000</td>\n",
       "      <td>8276.000000</td>\n",
       "      <td>3589.000000</td>\n",
       "      <td>15.000100</td>\n",
       "      <td>500001.000000</td>\n",
       "    </tr>\n",
       "  </tbody>\n",
       "</table>\n",
       "</div>"
      ],
      "text/plain": [
       "       housing_median_age   total_rooms  total_bedrooms   population  \\\n",
       "count         2290.000000   2290.000000     2290.000000  2290.000000   \n",
       "mean            37.730131   2493.589520      514.389699  1230.317467   \n",
       "std             13.070385   1830.817022      366.283515   885.899035   \n",
       "min              2.000000      8.000000        1.000000     8.000000   \n",
       "25%             29.000000   1431.250000      290.000000   718.250000   \n",
       "50%             39.000000   2083.000000      425.500000  1033.500000   \n",
       "75%             52.000000   3029.750000      626.000000  1495.000000   \n",
       "max             52.000000  18634.000000     3226.000000  8276.000000   \n",
       "\n",
       "        households  median_income  median_house_value  \n",
       "count  2290.000000    2290.000000         2290.000000  \n",
       "mean    488.616157       4.172885       259212.311790  \n",
       "std     350.598369       2.017427       122818.537064  \n",
       "min       1.000000       0.499900        22500.000000  \n",
       "25%     275.000000       2.834750       162500.000000  \n",
       "50%     406.000000       3.818650       233800.000000  \n",
       "75%     599.250000       5.054425       345700.000000  \n",
       "max    3589.000000      15.000100       500001.000000  "
      ]
     },
     "execution_count": 68,
     "metadata": {},
     "output_type": "execute_result"
    }
   ],
   "source": [
    "house_near_bay = df[df['ocean_proximity'] == 'NEAR BAY']\n",
    "house_near_bay.describe()"
   ]
  },
  {
   "cell_type": "code",
   "execution_count": null,
   "id": "received-freedom",
   "metadata": {
    "papermill": {
     "duration": 0.068275,
     "end_time": "2021-07-04T18:19:35.599284",
     "exception": false,
     "start_time": "2021-07-04T18:19:35.531009",
     "status": "completed"
    },
    "tags": []
   },
   "outputs": [],
   "source": []
  },
  {
   "cell_type": "code",
   "execution_count": 69,
   "id": "modern-christianity",
   "metadata": {
    "execution": {
     "iopub.execute_input": "2021-07-04T18:19:35.736506Z",
     "iopub.status.busy": "2021-07-04T18:19:35.736010Z",
     "iopub.status.idle": "2021-07-04T18:19:35.768657Z",
     "shell.execute_reply": "2021-07-04T18:19:35.769070Z"
    },
    "papermill": {
     "duration": 0.102117,
     "end_time": "2021-07-04T18:19:35.769227",
     "exception": false,
     "start_time": "2021-07-04T18:19:35.667110",
     "status": "completed"
    },
    "tags": []
   },
   "outputs": [
    {
     "data": {
      "text/html": [
       "<div>\n",
       "<style scoped>\n",
       "    .dataframe tbody tr th:only-of-type {\n",
       "        vertical-align: middle;\n",
       "    }\n",
       "\n",
       "    .dataframe tbody tr th {\n",
       "        vertical-align: top;\n",
       "    }\n",
       "\n",
       "    .dataframe thead th {\n",
       "        text-align: right;\n",
       "    }\n",
       "</style>\n",
       "<table border=\"1\" class=\"dataframe\">\n",
       "  <thead>\n",
       "    <tr style=\"text-align: right;\">\n",
       "      <th></th>\n",
       "      <th>housing_median_age</th>\n",
       "      <th>total_rooms</th>\n",
       "      <th>total_bedrooms</th>\n",
       "      <th>population</th>\n",
       "      <th>households</th>\n",
       "      <th>median_income</th>\n",
       "      <th>median_house_value</th>\n",
       "    </tr>\n",
       "  </thead>\n",
       "  <tbody>\n",
       "    <tr>\n",
       "      <th>count</th>\n",
       "      <td>2658.000000</td>\n",
       "      <td>2658.000000</td>\n",
       "      <td>2658.000000</td>\n",
       "      <td>2658.000000</td>\n",
       "      <td>2658.000000</td>\n",
       "      <td>2658.000000</td>\n",
       "      <td>2658.000000</td>\n",
       "    </tr>\n",
       "    <tr>\n",
       "      <th>mean</th>\n",
       "      <td>29.347254</td>\n",
       "      <td>2583.700903</td>\n",
       "      <td>538.607267</td>\n",
       "      <td>1354.008653</td>\n",
       "      <td>501.244545</td>\n",
       "      <td>4.005785</td>\n",
       "      <td>249433.977427</td>\n",
       "    </tr>\n",
       "    <tr>\n",
       "      <th>std</th>\n",
       "      <td>11.840371</td>\n",
       "      <td>1990.724760</td>\n",
       "      <td>374.189521</td>\n",
       "      <td>1005.563166</td>\n",
       "      <td>344.445256</td>\n",
       "      <td>2.010558</td>\n",
       "      <td>122477.145927</td>\n",
       "    </tr>\n",
       "    <tr>\n",
       "      <th>min</th>\n",
       "      <td>2.000000</td>\n",
       "      <td>15.000000</td>\n",
       "      <td>3.000000</td>\n",
       "      <td>8.000000</td>\n",
       "      <td>3.000000</td>\n",
       "      <td>0.536000</td>\n",
       "      <td>22500.000000</td>\n",
       "    </tr>\n",
       "    <tr>\n",
       "      <th>25%</th>\n",
       "      <td>20.000000</td>\n",
       "      <td>1505.000000</td>\n",
       "      <td>314.250000</td>\n",
       "      <td>778.500000</td>\n",
       "      <td>299.000000</td>\n",
       "      <td>2.630525</td>\n",
       "      <td>150000.000000</td>\n",
       "    </tr>\n",
       "    <tr>\n",
       "      <th>50%</th>\n",
       "      <td>29.000000</td>\n",
       "      <td>2195.000000</td>\n",
       "      <td>468.000000</td>\n",
       "      <td>1136.500000</td>\n",
       "      <td>429.000000</td>\n",
       "      <td>3.647050</td>\n",
       "      <td>229450.000000</td>\n",
       "    </tr>\n",
       "    <tr>\n",
       "      <th>75%</th>\n",
       "      <td>37.000000</td>\n",
       "      <td>3109.000000</td>\n",
       "      <td>662.750000</td>\n",
       "      <td>1628.000000</td>\n",
       "      <td>614.000000</td>\n",
       "      <td>4.837400</td>\n",
       "      <td>322750.000000</td>\n",
       "    </tr>\n",
       "    <tr>\n",
       "      <th>max</th>\n",
       "      <td>52.000000</td>\n",
       "      <td>30405.000000</td>\n",
       "      <td>4585.000000</td>\n",
       "      <td>12873.000000</td>\n",
       "      <td>4176.000000</td>\n",
       "      <td>15.000100</td>\n",
       "      <td>500001.000000</td>\n",
       "    </tr>\n",
       "  </tbody>\n",
       "</table>\n",
       "</div>"
      ],
      "text/plain": [
       "       housing_median_age   total_rooms  total_bedrooms    population  \\\n",
       "count         2658.000000   2658.000000     2658.000000   2658.000000   \n",
       "mean            29.347254   2583.700903      538.607267   1354.008653   \n",
       "std             11.840371   1990.724760      374.189521   1005.563166   \n",
       "min              2.000000     15.000000        3.000000      8.000000   \n",
       "25%             20.000000   1505.000000      314.250000    778.500000   \n",
       "50%             29.000000   2195.000000      468.000000   1136.500000   \n",
       "75%             37.000000   3109.000000      662.750000   1628.000000   \n",
       "max             52.000000  30405.000000     4585.000000  12873.000000   \n",
       "\n",
       "        households  median_income  median_house_value  \n",
       "count  2658.000000    2658.000000         2658.000000  \n",
       "mean    501.244545       4.005785       249433.977427  \n",
       "std     344.445256       2.010558       122477.145927  \n",
       "min       3.000000       0.536000        22500.000000  \n",
       "25%     299.000000       2.630525       150000.000000  \n",
       "50%     429.000000       3.647050       229450.000000  \n",
       "75%     614.000000       4.837400       322750.000000  \n",
       "max    4176.000000      15.000100       500001.000000  "
      ]
     },
     "execution_count": 69,
     "metadata": {},
     "output_type": "execute_result"
    }
   ],
   "source": [
    "house_near_ocean = df[df['ocean_proximity'] == 'NEAR OCEAN']\n",
    "house_near_ocean.describe()"
   ]
  },
  {
   "cell_type": "code",
   "execution_count": null,
   "id": "religious-pennsylvania",
   "metadata": {
    "papermill": {
     "duration": 0.06783,
     "end_time": "2021-07-04T18:19:35.905838",
     "exception": false,
     "start_time": "2021-07-04T18:19:35.838008",
     "status": "completed"
    },
    "tags": []
   },
   "outputs": [],
   "source": []
  },
  {
   "cell_type": "code",
   "execution_count": 27,
   "id": "mighty-milwaukee",
   "metadata": {
    "execution": {
     "iopub.execute_input": "2021-07-04T18:19:36.076216Z",
     "iopub.status.busy": "2021-07-04T18:19:36.064022Z",
     "iopub.status.idle": "2021-07-04T18:19:36.080329Z",
     "shell.execute_reply": "2021-07-04T18:19:36.079874Z"
    },
    "papermill": {
     "duration": 0.105125,
     "end_time": "2021-07-04T18:19:36.080448",
     "exception": false,
     "start_time": "2021-07-04T18:19:35.975323",
     "status": "completed"
    },
    "tags": []
   },
   "outputs": [
    {
     "data": {
      "text/html": [
       "<div>\n",
       "<style scoped>\n",
       "    .dataframe tbody tr th:only-of-type {\n",
       "        vertical-align: middle;\n",
       "    }\n",
       "\n",
       "    .dataframe tbody tr th {\n",
       "        vertical-align: top;\n",
       "    }\n",
       "\n",
       "    .dataframe thead th {\n",
       "        text-align: right;\n",
       "    }\n",
       "</style>\n",
       "<table border=\"1\" class=\"dataframe\">\n",
       "  <thead>\n",
       "    <tr style=\"text-align: right;\">\n",
       "      <th></th>\n",
       "      <th>housing_median_age</th>\n",
       "      <th>total_rooms</th>\n",
       "      <th>total_bedrooms</th>\n",
       "      <th>population</th>\n",
       "      <th>households</th>\n",
       "      <th>median_income</th>\n",
       "      <th>median_house_value</th>\n",
       "    </tr>\n",
       "  </thead>\n",
       "  <tbody>\n",
       "    <tr>\n",
       "      <th>count</th>\n",
       "      <td>5.000000</td>\n",
       "      <td>5.000000</td>\n",
       "      <td>5.000000</td>\n",
       "      <td>5.000000</td>\n",
       "      <td>5.000000</td>\n",
       "      <td>5.00000</td>\n",
       "      <td>5.000000</td>\n",
       "    </tr>\n",
       "    <tr>\n",
       "      <th>mean</th>\n",
       "      <td>42.400000</td>\n",
       "      <td>1574.600000</td>\n",
       "      <td>420.400000</td>\n",
       "      <td>668.000000</td>\n",
       "      <td>276.600000</td>\n",
       "      <td>2.74442</td>\n",
       "      <td>380440.000000</td>\n",
       "    </tr>\n",
       "    <tr>\n",
       "      <th>std</th>\n",
       "      <td>13.164346</td>\n",
       "      <td>707.545264</td>\n",
       "      <td>169.320111</td>\n",
       "      <td>301.691067</td>\n",
       "      <td>113.200265</td>\n",
       "      <td>0.44418</td>\n",
       "      <td>80559.561816</td>\n",
       "    </tr>\n",
       "    <tr>\n",
       "      <th>min</th>\n",
       "      <td>27.000000</td>\n",
       "      <td>716.000000</td>\n",
       "      <td>214.000000</td>\n",
       "      <td>341.000000</td>\n",
       "      <td>160.000000</td>\n",
       "      <td>2.15790</td>\n",
       "      <td>287500.000000</td>\n",
       "    </tr>\n",
       "    <tr>\n",
       "      <th>25%</th>\n",
       "      <td>29.000000</td>\n",
       "      <td>996.000000</td>\n",
       "      <td>264.000000</td>\n",
       "      <td>422.000000</td>\n",
       "      <td>173.000000</td>\n",
       "      <td>2.60420</td>\n",
       "      <td>300000.000000</td>\n",
       "    </tr>\n",
       "    <tr>\n",
       "      <th>50%</th>\n",
       "      <td>52.000000</td>\n",
       "      <td>1675.000000</td>\n",
       "      <td>512.000000</td>\n",
       "      <td>733.000000</td>\n",
       "      <td>288.000000</td>\n",
       "      <td>2.73610</td>\n",
       "      <td>414700.000000</td>\n",
       "    </tr>\n",
       "    <tr>\n",
       "      <th>75%</th>\n",
       "      <td>52.000000</td>\n",
       "      <td>2127.000000</td>\n",
       "      <td>521.000000</td>\n",
       "      <td>744.000000</td>\n",
       "      <td>331.000000</td>\n",
       "      <td>2.83330</td>\n",
       "      <td>450000.000000</td>\n",
       "    </tr>\n",
       "    <tr>\n",
       "      <th>max</th>\n",
       "      <td>52.000000</td>\n",
       "      <td>2359.000000</td>\n",
       "      <td>591.000000</td>\n",
       "      <td>1100.000000</td>\n",
       "      <td>431.000000</td>\n",
       "      <td>3.39060</td>\n",
       "      <td>450000.000000</td>\n",
       "    </tr>\n",
       "  </tbody>\n",
       "</table>\n",
       "</div>"
      ],
      "text/plain": [
       "       housing_median_age  total_rooms  total_bedrooms   population  \\\n",
       "count            5.000000     5.000000        5.000000     5.000000   \n",
       "mean            42.400000  1574.600000      420.400000   668.000000   \n",
       "std             13.164346   707.545264      169.320111   301.691067   \n",
       "min             27.000000   716.000000      214.000000   341.000000   \n",
       "25%             29.000000   996.000000      264.000000   422.000000   \n",
       "50%             52.000000  1675.000000      512.000000   733.000000   \n",
       "75%             52.000000  2127.000000      521.000000   744.000000   \n",
       "max             52.000000  2359.000000      591.000000  1100.000000   \n",
       "\n",
       "       households  median_income  median_house_value  \n",
       "count    5.000000        5.00000            5.000000  \n",
       "mean   276.600000        2.74442       380440.000000  \n",
       "std    113.200265        0.44418        80559.561816  \n",
       "min    160.000000        2.15790       287500.000000  \n",
       "25%    173.000000        2.60420       300000.000000  \n",
       "50%    288.000000        2.73610       414700.000000  \n",
       "75%    331.000000        2.83330       450000.000000  \n",
       "max    431.000000        3.39060       450000.000000  "
      ]
     },
     "execution_count": 27,
     "metadata": {},
     "output_type": "execute_result"
    }
   ],
   "source": [
    "house_near_island = df[df['ocean_proximity'] == 'ISLAND']\n",
    "house_near_island.describe()"
   ]
  },
  {
   "cell_type": "markdown",
   "id": "fifteen-junction",
   "metadata": {
    "papermill": {
     "duration": 0.069266,
     "end_time": "2021-07-04T18:19:36.220927",
     "exception": false,
     "start_time": "2021-07-04T18:19:36.151661",
     "status": "completed"
    },
    "tags": []
   },
   "source": [
    "#### 1.After seperating the category by the ocean proximity we can see the average housel value and we can tell that houses located near Island are expensive which also justifies because island mostly being a vacation place has higher value of houses. But we cant rely on this data as we have information just 5 houses in this category, so to have clear idea of thus we might need more data.\n",
    "\n",
    "#### 2.Other than this we can see that houses located at the Bay area are expensive than houses of other areas.\n",
    "\n",
    "#### 3.So we can say that the location of house from nearby oceans plays vital role in prices of the houses.\n",
    "\n",
    "#### 4.There is very little positive relation as seen from plots, between the total no of rooms and bedrooms within a block and the price of the houses."
   ]
  },
  {
   "cell_type": "code",
   "execution_count": null,
   "id": "optimum-graph",
   "metadata": {
    "papermill": {
     "duration": 0.071994,
     "end_time": "2021-07-04T18:19:36.361265",
     "exception": false,
     "start_time": "2021-07-04T18:19:36.289271",
     "status": "completed"
    },
    "tags": []
   },
   "outputs": [],
   "source": []
  },
  {
   "cell_type": "code",
   "execution_count": null,
   "id": "hispanic-depression",
   "metadata": {
    "papermill": {
     "duration": 0.070722,
     "end_time": "2021-07-04T18:19:36.503244",
     "exception": false,
     "start_time": "2021-07-04T18:19:36.432522",
     "status": "completed"
    },
    "tags": []
   },
   "outputs": [],
   "source": []
  },
  {
   "cell_type": "markdown",
   "id": "cross-custom",
   "metadata": {
    "papermill": {
     "duration": 0.070256,
     "end_time": "2021-07-04T18:19:36.642452",
     "exception": false,
     "start_time": "2021-07-04T18:19:36.572196",
     "status": "completed"
    },
    "tags": []
   },
   "source": [
    "## Feature Selection "
   ]
  },
  {
   "cell_type": "code",
   "execution_count": 70,
   "id": "chronic-arthur",
   "metadata": {
    "execution": {
     "iopub.execute_input": "2021-07-04T18:19:36.787006Z",
     "iopub.status.busy": "2021-07-04T18:19:36.786235Z",
     "iopub.status.idle": "2021-07-04T18:19:36.789653Z",
     "shell.execute_reply": "2021-07-04T18:19:36.789221Z"
    },
    "papermill": {
     "duration": 0.077411,
     "end_time": "2021-07-04T18:19:36.789806",
     "exception": false,
     "start_time": "2021-07-04T18:19:36.712395",
     "status": "completed"
    },
    "tags": []
   },
   "outputs": [],
   "source": [
    "X = df.drop('median_house_value',axis=1)"
   ]
  },
  {
   "cell_type": "code",
   "execution_count": 71,
   "id": "athletic-stone",
   "metadata": {
    "execution": {
     "iopub.execute_input": "2021-07-04T18:19:36.938470Z",
     "iopub.status.busy": "2021-07-04T18:19:36.937524Z",
     "iopub.status.idle": "2021-07-04T18:19:36.953988Z",
     "shell.execute_reply": "2021-07-04T18:19:36.954466Z"
    },
    "papermill": {
     "duration": 0.094362,
     "end_time": "2021-07-04T18:19:36.954614",
     "exception": false,
     "start_time": "2021-07-04T18:19:36.860252",
     "status": "completed"
    },
    "tags": []
   },
   "outputs": [
    {
     "data": {
      "text/html": [
       "<div>\n",
       "<style scoped>\n",
       "    .dataframe tbody tr th:only-of-type {\n",
       "        vertical-align: middle;\n",
       "    }\n",
       "\n",
       "    .dataframe tbody tr th {\n",
       "        vertical-align: top;\n",
       "    }\n",
       "\n",
       "    .dataframe thead th {\n",
       "        text-align: right;\n",
       "    }\n",
       "</style>\n",
       "<table border=\"1\" class=\"dataframe\">\n",
       "  <thead>\n",
       "    <tr style=\"text-align: right;\">\n",
       "      <th></th>\n",
       "      <th>housing_median_age</th>\n",
       "      <th>total_rooms</th>\n",
       "      <th>total_bedrooms</th>\n",
       "      <th>population</th>\n",
       "      <th>households</th>\n",
       "      <th>median_income</th>\n",
       "      <th>ocean_proximity_&lt;1H OCEAN</th>\n",
       "      <th>ocean_proximity_INLAND</th>\n",
       "      <th>ocean_proximity_ISLAND</th>\n",
       "      <th>ocean_proximity_NEAR BAY</th>\n",
       "      <th>ocean_proximity_NEAR OCEAN</th>\n",
       "    </tr>\n",
       "  </thead>\n",
       "  <tbody>\n",
       "    <tr>\n",
       "      <th>0</th>\n",
       "      <td>41.0</td>\n",
       "      <td>880.0</td>\n",
       "      <td>129.0</td>\n",
       "      <td>322.0</td>\n",
       "      <td>126.0</td>\n",
       "      <td>8.3252</td>\n",
       "      <td>0</td>\n",
       "      <td>0</td>\n",
       "      <td>0</td>\n",
       "      <td>1</td>\n",
       "      <td>0</td>\n",
       "    </tr>\n",
       "    <tr>\n",
       "      <th>1</th>\n",
       "      <td>21.0</td>\n",
       "      <td>7099.0</td>\n",
       "      <td>1106.0</td>\n",
       "      <td>2401.0</td>\n",
       "      <td>1138.0</td>\n",
       "      <td>8.3014</td>\n",
       "      <td>0</td>\n",
       "      <td>0</td>\n",
       "      <td>0</td>\n",
       "      <td>1</td>\n",
       "      <td>0</td>\n",
       "    </tr>\n",
       "    <tr>\n",
       "      <th>2</th>\n",
       "      <td>52.0</td>\n",
       "      <td>1467.0</td>\n",
       "      <td>190.0</td>\n",
       "      <td>496.0</td>\n",
       "      <td>177.0</td>\n",
       "      <td>7.2574</td>\n",
       "      <td>0</td>\n",
       "      <td>0</td>\n",
       "      <td>0</td>\n",
       "      <td>1</td>\n",
       "      <td>0</td>\n",
       "    </tr>\n",
       "    <tr>\n",
       "      <th>3</th>\n",
       "      <td>52.0</td>\n",
       "      <td>1274.0</td>\n",
       "      <td>235.0</td>\n",
       "      <td>558.0</td>\n",
       "      <td>219.0</td>\n",
       "      <td>5.6431</td>\n",
       "      <td>0</td>\n",
       "      <td>0</td>\n",
       "      <td>0</td>\n",
       "      <td>1</td>\n",
       "      <td>0</td>\n",
       "    </tr>\n",
       "    <tr>\n",
       "      <th>4</th>\n",
       "      <td>52.0</td>\n",
       "      <td>1627.0</td>\n",
       "      <td>280.0</td>\n",
       "      <td>565.0</td>\n",
       "      <td>259.0</td>\n",
       "      <td>3.8462</td>\n",
       "      <td>0</td>\n",
       "      <td>0</td>\n",
       "      <td>0</td>\n",
       "      <td>1</td>\n",
       "      <td>0</td>\n",
       "    </tr>\n",
       "  </tbody>\n",
       "</table>\n",
       "</div>"
      ],
      "text/plain": [
       "   housing_median_age  total_rooms  total_bedrooms  population  households  \\\n",
       "0                41.0        880.0           129.0       322.0       126.0   \n",
       "1                21.0       7099.0          1106.0      2401.0      1138.0   \n",
       "2                52.0       1467.0           190.0       496.0       177.0   \n",
       "3                52.0       1274.0           235.0       558.0       219.0   \n",
       "4                52.0       1627.0           280.0       565.0       259.0   \n",
       "\n",
       "   median_income  ocean_proximity_<1H OCEAN  ocean_proximity_INLAND  \\\n",
       "0         8.3252                          0                       0   \n",
       "1         8.3014                          0                       0   \n",
       "2         7.2574                          0                       0   \n",
       "3         5.6431                          0                       0   \n",
       "4         3.8462                          0                       0   \n",
       "\n",
       "   ocean_proximity_ISLAND  ocean_proximity_NEAR BAY  \\\n",
       "0                       0                         1   \n",
       "1                       0                         1   \n",
       "2                       0                         1   \n",
       "3                       0                         1   \n",
       "4                       0                         1   \n",
       "\n",
       "   ocean_proximity_NEAR OCEAN  \n",
       "0                           0  \n",
       "1                           0  \n",
       "2                           0  \n",
       "3                           0  \n",
       "4                           0  "
      ]
     },
     "execution_count": 71,
     "metadata": {},
     "output_type": "execute_result"
    }
   ],
   "source": [
    "X = pd.get_dummies(data=X)\n",
    "X.head()"
   ]
  },
  {
   "cell_type": "code",
   "execution_count": 72,
   "id": "involved-emperor",
   "metadata": {
    "execution": {
     "iopub.execute_input": "2021-07-04T18:19:37.099443Z",
     "iopub.status.busy": "2021-07-04T18:19:37.098623Z",
     "iopub.status.idle": "2021-07-04T18:19:37.103801Z",
     "shell.execute_reply": "2021-07-04T18:19:37.103211Z"
    },
    "papermill": {
     "duration": 0.077331,
     "end_time": "2021-07-04T18:19:37.103928",
     "exception": false,
     "start_time": "2021-07-04T18:19:37.026597",
     "status": "completed"
    },
    "tags": []
   },
   "outputs": [],
   "source": [
    "X['ocean_proximity_<1H_OCEAN'] = X['ocean_proximity_<1H OCEAN']"
   ]
  },
  {
   "cell_type": "code",
   "execution_count": 73,
   "id": "approved-villa",
   "metadata": {
    "execution": {
     "iopub.execute_input": "2021-07-04T18:19:37.248770Z",
     "iopub.status.busy": "2021-07-04T18:19:37.248161Z",
     "iopub.status.idle": "2021-07-04T18:19:37.251181Z",
     "shell.execute_reply": "2021-07-04T18:19:37.250770Z"
    },
    "papermill": {
     "duration": 0.078538,
     "end_time": "2021-07-04T18:19:37.251295",
     "exception": false,
     "start_time": "2021-07-04T18:19:37.172757",
     "status": "completed"
    },
    "tags": []
   },
   "outputs": [],
   "source": [
    "X = X.drop('ocean_proximity_<1H OCEAN',axis=1)"
   ]
  },
  {
   "cell_type": "code",
   "execution_count": 74,
   "id": "norwegian-coalition",
   "metadata": {
    "execution": {
     "iopub.execute_input": "2021-07-04T18:19:37.406592Z",
     "iopub.status.busy": "2021-07-04T18:19:37.405901Z",
     "iopub.status.idle": "2021-07-04T18:19:37.409414Z",
     "shell.execute_reply": "2021-07-04T18:19:37.409844Z"
    },
    "papermill": {
     "duration": 0.088773,
     "end_time": "2021-07-04T18:19:37.409999",
     "exception": false,
     "start_time": "2021-07-04T18:19:37.321226",
     "status": "completed"
    },
    "tags": []
   },
   "outputs": [
    {
     "data": {
      "text/html": [
       "<div>\n",
       "<style scoped>\n",
       "    .dataframe tbody tr th:only-of-type {\n",
       "        vertical-align: middle;\n",
       "    }\n",
       "\n",
       "    .dataframe tbody tr th {\n",
       "        vertical-align: top;\n",
       "    }\n",
       "\n",
       "    .dataframe thead th {\n",
       "        text-align: right;\n",
       "    }\n",
       "</style>\n",
       "<table border=\"1\" class=\"dataframe\">\n",
       "  <thead>\n",
       "    <tr style=\"text-align: right;\">\n",
       "      <th></th>\n",
       "      <th>housing_median_age</th>\n",
       "      <th>total_rooms</th>\n",
       "      <th>total_bedrooms</th>\n",
       "      <th>population</th>\n",
       "      <th>households</th>\n",
       "      <th>median_income</th>\n",
       "      <th>ocean_proximity_INLAND</th>\n",
       "      <th>ocean_proximity_ISLAND</th>\n",
       "      <th>ocean_proximity_NEAR BAY</th>\n",
       "      <th>ocean_proximity_NEAR OCEAN</th>\n",
       "      <th>ocean_proximity_&lt;1H_OCEAN</th>\n",
       "    </tr>\n",
       "  </thead>\n",
       "  <tbody>\n",
       "    <tr>\n",
       "      <th>0</th>\n",
       "      <td>41.0</td>\n",
       "      <td>880.0</td>\n",
       "      <td>129.0</td>\n",
       "      <td>322.0</td>\n",
       "      <td>126.0</td>\n",
       "      <td>8.3252</td>\n",
       "      <td>0</td>\n",
       "      <td>0</td>\n",
       "      <td>1</td>\n",
       "      <td>0</td>\n",
       "      <td>0</td>\n",
       "    </tr>\n",
       "    <tr>\n",
       "      <th>1</th>\n",
       "      <td>21.0</td>\n",
       "      <td>7099.0</td>\n",
       "      <td>1106.0</td>\n",
       "      <td>2401.0</td>\n",
       "      <td>1138.0</td>\n",
       "      <td>8.3014</td>\n",
       "      <td>0</td>\n",
       "      <td>0</td>\n",
       "      <td>1</td>\n",
       "      <td>0</td>\n",
       "      <td>0</td>\n",
       "    </tr>\n",
       "    <tr>\n",
       "      <th>2</th>\n",
       "      <td>52.0</td>\n",
       "      <td>1467.0</td>\n",
       "      <td>190.0</td>\n",
       "      <td>496.0</td>\n",
       "      <td>177.0</td>\n",
       "      <td>7.2574</td>\n",
       "      <td>0</td>\n",
       "      <td>0</td>\n",
       "      <td>1</td>\n",
       "      <td>0</td>\n",
       "      <td>0</td>\n",
       "    </tr>\n",
       "    <tr>\n",
       "      <th>3</th>\n",
       "      <td>52.0</td>\n",
       "      <td>1274.0</td>\n",
       "      <td>235.0</td>\n",
       "      <td>558.0</td>\n",
       "      <td>219.0</td>\n",
       "      <td>5.6431</td>\n",
       "      <td>0</td>\n",
       "      <td>0</td>\n",
       "      <td>1</td>\n",
       "      <td>0</td>\n",
       "      <td>0</td>\n",
       "    </tr>\n",
       "    <tr>\n",
       "      <th>4</th>\n",
       "      <td>52.0</td>\n",
       "      <td>1627.0</td>\n",
       "      <td>280.0</td>\n",
       "      <td>565.0</td>\n",
       "      <td>259.0</td>\n",
       "      <td>3.8462</td>\n",
       "      <td>0</td>\n",
       "      <td>0</td>\n",
       "      <td>1</td>\n",
       "      <td>0</td>\n",
       "      <td>0</td>\n",
       "    </tr>\n",
       "  </tbody>\n",
       "</table>\n",
       "</div>"
      ],
      "text/plain": [
       "   housing_median_age  total_rooms  total_bedrooms  population  households  \\\n",
       "0                41.0        880.0           129.0       322.0       126.0   \n",
       "1                21.0       7099.0          1106.0      2401.0      1138.0   \n",
       "2                52.0       1467.0           190.0       496.0       177.0   \n",
       "3                52.0       1274.0           235.0       558.0       219.0   \n",
       "4                52.0       1627.0           280.0       565.0       259.0   \n",
       "\n",
       "   median_income  ocean_proximity_INLAND  ocean_proximity_ISLAND  \\\n",
       "0         8.3252                       0                       0   \n",
       "1         8.3014                       0                       0   \n",
       "2         7.2574                       0                       0   \n",
       "3         5.6431                       0                       0   \n",
       "4         3.8462                       0                       0   \n",
       "\n",
       "   ocean_proximity_NEAR BAY  ocean_proximity_NEAR OCEAN  \\\n",
       "0                         1                           0   \n",
       "1                         1                           0   \n",
       "2                         1                           0   \n",
       "3                         1                           0   \n",
       "4                         1                           0   \n",
       "\n",
       "   ocean_proximity_<1H_OCEAN  \n",
       "0                          0  \n",
       "1                          0  \n",
       "2                          0  \n",
       "3                          0  \n",
       "4                          0  "
      ]
     },
     "execution_count": 74,
     "metadata": {},
     "output_type": "execute_result"
    }
   ],
   "source": [
    "X.head()"
   ]
  },
  {
   "cell_type": "code",
   "execution_count": 169,
   "id": "494908f6",
   "metadata": {},
   "outputs": [
    {
     "data": {
      "text/plain": [
       "Index(['housing_median_age', 'total_rooms', 'total_bedrooms', 'population',\n",
       "       'households', 'median_income', 'ocean_proximity_INLAND',\n",
       "       'ocean_proximity_ISLAND', 'ocean_proximity_NEAR BAY',\n",
       "       'ocean_proximity_NEAR OCEAN', 'ocean_proximity_<1H_OCEAN'],\n",
       "      dtype='object')"
      ]
     },
     "execution_count": 169,
     "metadata": {},
     "output_type": "execute_result"
    }
   ],
   "source": [
    "X.columns"
   ]
  },
  {
   "cell_type": "code",
   "execution_count": 170,
   "id": "f744e197",
   "metadata": {},
   "outputs": [
    {
     "data": {
      "text/plain": [
       "0        452600.0\n",
       "1        358500.0\n",
       "2        352100.0\n",
       "3        341300.0\n",
       "4        342200.0\n",
       "           ...   \n",
       "20635     78100.0\n",
       "20636     77100.0\n",
       "20637     92300.0\n",
       "20638     84700.0\n",
       "20639     89400.0\n",
       "Name: median_house_value, Length: 20640, dtype: float64"
      ]
     },
     "execution_count": 170,
     "metadata": {},
     "output_type": "execute_result"
    }
   ],
   "source": [
    "y"
   ]
  },
  {
   "cell_type": "code",
   "execution_count": 75,
   "id": "expensive-planet",
   "metadata": {
    "execution": {
     "iopub.execute_input": "2021-07-04T18:19:37.560339Z",
     "iopub.status.busy": "2021-07-04T18:19:37.559790Z",
     "iopub.status.idle": "2021-07-04T18:19:37.562720Z",
     "shell.execute_reply": "2021-07-04T18:19:37.563157Z"
    },
    "papermill": {
     "duration": 0.079979,
     "end_time": "2021-07-04T18:19:37.563325",
     "exception": false,
     "start_time": "2021-07-04T18:19:37.483346",
     "status": "completed"
    },
    "tags": []
   },
   "outputs": [
    {
     "name": "stdout",
     "output_type": "stream",
     "text": [
      "Shape of input features (20640, 11)\n"
     ]
    }
   ],
   "source": [
    "print('Shape of input features',X.shape) # 2D array"
   ]
  },
  {
   "cell_type": "code",
   "execution_count": 76,
   "id": "fancy-recall",
   "metadata": {
    "execution": {
     "iopub.execute_input": "2021-07-04T18:19:37.715934Z",
     "iopub.status.busy": "2021-07-04T18:19:37.715030Z",
     "iopub.status.idle": "2021-07-04T18:19:37.718618Z",
     "shell.execute_reply": "2021-07-04T18:19:37.719320Z"
    },
    "papermill": {
     "duration": 0.082211,
     "end_time": "2021-07-04T18:19:37.719566",
     "exception": false,
     "start_time": "2021-07-04T18:19:37.637355",
     "status": "completed"
    },
    "tags": []
   },
   "outputs": [
    {
     "data": {
      "text/plain": [
       "0    452600.0\n",
       "1    358500.0\n",
       "2    352100.0\n",
       "3    341300.0\n",
       "4    342200.0\n",
       "Name: median_house_value, dtype: float64"
      ]
     },
     "execution_count": 76,
     "metadata": {},
     "output_type": "execute_result"
    }
   ],
   "source": [
    "y = df['median_house_value']\n",
    "y.head()"
   ]
  },
  {
   "cell_type": "code",
   "execution_count": 77,
   "id": "elementary-progress",
   "metadata": {
    "execution": {
     "iopub.execute_input": "2021-07-04T18:19:37.873450Z",
     "iopub.status.busy": "2021-07-04T18:19:37.872826Z",
     "iopub.status.idle": "2021-07-04T18:19:37.877223Z",
     "shell.execute_reply": "2021-07-04T18:19:37.877870Z"
    },
    "papermill": {
     "duration": 0.080116,
     "end_time": "2021-07-04T18:19:37.878029",
     "exception": false,
     "start_time": "2021-07-04T18:19:37.797913",
     "status": "completed"
    },
    "tags": []
   },
   "outputs": [
    {
     "name": "stdout",
     "output_type": "stream",
     "text": [
      "Shape of input features (20640,)\n"
     ]
    }
   ],
   "source": [
    "print('Shape of input features',y.shape)"
   ]
  },
  {
   "cell_type": "code",
   "execution_count": 78,
   "id": "beautiful-advisory",
   "metadata": {
    "execution": {
     "iopub.execute_input": "2021-07-04T18:19:38.024691Z",
     "iopub.status.busy": "2021-07-04T18:19:38.024150Z",
     "iopub.status.idle": "2021-07-04T18:19:38.028827Z",
     "shell.execute_reply": "2021-07-04T18:19:38.029283Z"
    },
    "papermill": {
     "duration": 0.079188,
     "end_time": "2021-07-04T18:19:38.029419",
     "exception": false,
     "start_time": "2021-07-04T18:19:37.950231",
     "status": "completed"
    },
    "tags": []
   },
   "outputs": [
    {
     "data": {
      "text/plain": [
       "array([452600., 358500., 352100., ...,  92300.,  84700.,  89400.])"
      ]
     },
     "execution_count": 78,
     "metadata": {},
     "output_type": "execute_result"
    }
   ],
   "source": [
    "y.values # 1D array"
   ]
  },
  {
   "cell_type": "code",
   "execution_count": 79,
   "id": "expressed-combination",
   "metadata": {
    "execution": {
     "iopub.execute_input": "2021-07-04T18:19:38.182783Z",
     "iopub.status.busy": "2021-07-04T18:19:38.182125Z",
     "iopub.status.idle": "2021-07-04T18:19:38.396390Z",
     "shell.execute_reply": "2021-07-04T18:19:38.395843Z"
    },
    "papermill": {
     "duration": 0.294073,
     "end_time": "2021-07-04T18:19:38.396516",
     "exception": false,
     "start_time": "2021-07-04T18:19:38.102443",
     "status": "completed"
    },
    "tags": []
   },
   "outputs": [],
   "source": [
    "from sklearn.model_selection import train_test_split"
   ]
  },
  {
   "cell_type": "code",
   "execution_count": 80,
   "id": "handled-family",
   "metadata": {
    "execution": {
     "iopub.execute_input": "2021-07-04T18:19:38.554813Z",
     "iopub.status.busy": "2021-07-04T18:19:38.554268Z",
     "iopub.status.idle": "2021-07-04T18:19:38.561421Z",
     "shell.execute_reply": "2021-07-04T18:19:38.560982Z"
    },
    "papermill": {
     "duration": 0.088062,
     "end_time": "2021-07-04T18:19:38.561558",
     "exception": false,
     "start_time": "2021-07-04T18:19:38.473496",
     "status": "completed"
    },
    "tags": []
   },
   "outputs": [],
   "source": [
    "X_train, X_test, y_train, y_test = train_test_split(X, y, test_size=0.33, random_state=42 )"
   ]
  },
  {
   "cell_type": "code",
   "execution_count": null,
   "id": "protecting-pregnancy",
   "metadata": {
    "papermill": {
     "duration": 0.075296,
     "end_time": "2021-07-04T18:19:38.712446",
     "exception": false,
     "start_time": "2021-07-04T18:19:38.637150",
     "status": "completed"
    },
    "tags": []
   },
   "outputs": [],
   "source": []
  },
  {
   "cell_type": "markdown",
   "id": "honey-grant",
   "metadata": {
    "papermill": {
     "duration": 0.076466,
     "end_time": "2021-07-04T18:19:38.865479",
     "exception": false,
     "start_time": "2021-07-04T18:19:38.789013",
     "status": "completed"
    },
    "tags": []
   },
   "source": [
    "## Model Creation"
   ]
  },
  {
   "cell_type": "code",
   "execution_count": 149,
   "id": "brief-congo",
   "metadata": {
    "execution": {
     "iopub.execute_input": "2021-07-04T18:19:39.021510Z",
     "iopub.status.busy": "2021-07-04T18:19:39.020909Z",
     "iopub.status.idle": "2021-07-04T18:19:39.129718Z",
     "shell.execute_reply": "2021-07-04T18:19:39.129099Z"
    },
    "papermill": {
     "duration": 0.187793,
     "end_time": "2021-07-04T18:19:39.129851",
     "exception": false,
     "start_time": "2021-07-04T18:19:38.942058",
     "status": "completed"
    },
    "tags": []
   },
   "outputs": [],
   "source": [
    "from sklearn import linear_model\n",
    "from sklearn.linear_model import Ridge\n",
    "from sklearn.linear_model import LinearRegression"
   ]
  },
  {
   "cell_type": "code",
   "execution_count": 150,
   "id": "creative-milan",
   "metadata": {
    "execution": {
     "iopub.execute_input": "2021-07-04T18:19:39.281196Z",
     "iopub.status.busy": "2021-07-04T18:19:39.280568Z",
     "iopub.status.idle": "2021-07-04T18:19:39.283533Z",
     "shell.execute_reply": "2021-07-04T18:19:39.283023Z"
    },
    "papermill": {
     "duration": 0.07896,
     "end_time": "2021-07-04T18:19:39.283675",
     "exception": false,
     "start_time": "2021-07-04T18:19:39.204715",
     "status": "completed"
    },
    "tags": []
   },
   "outputs": [],
   "source": [
    "house_price_model = LinearRegression()"
   ]
  },
  {
   "cell_type": "markdown",
   "id": "continued-patent",
   "metadata": {
    "papermill": {
     "duration": 0.077142,
     "end_time": "2021-07-04T18:19:39.432976",
     "exception": false,
     "start_time": "2021-07-04T18:19:39.355834",
     "status": "completed"
    },
    "tags": []
   },
   "source": [
    "#### Training model on training data"
   ]
  },
  {
   "cell_type": "code",
   "execution_count": 151,
   "id": "opening-federation",
   "metadata": {
    "execution": {
     "iopub.execute_input": "2021-07-04T18:19:39.585462Z",
     "iopub.status.busy": "2021-07-04T18:19:39.584544Z",
     "iopub.status.idle": "2021-07-04T18:19:39.608036Z",
     "shell.execute_reply": "2021-07-04T18:19:39.607232Z"
    },
    "papermill": {
     "duration": 0.100012,
     "end_time": "2021-07-04T18:19:39.608232",
     "exception": false,
     "start_time": "2021-07-04T18:19:39.508220",
     "status": "completed"
    },
    "tags": []
   },
   "outputs": [
    {
     "data": {
      "text/plain": [
       "LinearRegression()"
      ]
     },
     "execution_count": 151,
     "metadata": {},
     "output_type": "execute_result"
    }
   ],
   "source": [
    "house_price_model.fit(X_train,y_train)"
   ]
  },
  {
   "cell_type": "code",
   "execution_count": null,
   "id": "sharp-albert",
   "metadata": {
    "papermill": {
     "duration": 0.074782,
     "end_time": "2021-07-04T18:19:39.807189",
     "exception": false,
     "start_time": "2021-07-04T18:19:39.732407",
     "status": "completed"
    },
    "tags": []
   },
   "outputs": [],
   "source": []
  },
  {
   "cell_type": "markdown",
   "id": "following-kentucky",
   "metadata": {
    "papermill": {
     "duration": 0.076273,
     "end_time": "2021-07-04T18:19:39.958279",
     "exception": false,
     "start_time": "2021-07-04T18:19:39.882006",
     "status": "completed"
    },
    "tags": []
   },
   "source": [
    "### Predicting the house values on test data"
   ]
  },
  {
   "cell_type": "code",
   "execution_count": 152,
   "id": "small-grain",
   "metadata": {
    "execution": {
     "iopub.execute_input": "2021-07-04T18:19:40.120365Z",
     "iopub.status.busy": "2021-07-04T18:19:40.119354Z",
     "iopub.status.idle": "2021-07-04T18:19:40.125108Z",
     "shell.execute_reply": "2021-07-04T18:19:40.125809Z"
    },
    "papermill": {
     "duration": 0.091564,
     "end_time": "2021-07-04T18:19:40.126068",
     "exception": false,
     "start_time": "2021-07-04T18:19:40.034504",
     "status": "completed"
    },
    "tags": []
   },
   "outputs": [
    {
     "data": {
      "text/plain": [
       "array([ 64482.64114444, 103960.02833241, 269252.93446246, ...,\n",
       "       116943.84814351, 123715.63121838, 217340.93766412])"
      ]
     },
     "execution_count": 152,
     "metadata": {},
     "output_type": "execute_result"
    }
   ],
   "source": [
    "y_predictions = house_price_model.predict(X_test)\n",
    "y_predictions\n"
   ]
  },
  {
   "cell_type": "code",
   "execution_count": null,
   "id": "loving-priority",
   "metadata": {
    "papermill": {
     "duration": 0.073354,
     "end_time": "2021-07-04T18:19:40.323848",
     "exception": false,
     "start_time": "2021-07-04T18:19:40.250494",
     "status": "completed"
    },
    "tags": []
   },
   "outputs": [],
   "source": []
  },
  {
   "cell_type": "markdown",
   "id": "sunrise-slovakia",
   "metadata": {
    "papermill": {
     "duration": 0.075266,
     "end_time": "2021-07-04T18:19:40.475578",
     "exception": false,
     "start_time": "2021-07-04T18:19:40.400312",
     "status": "completed"
    },
    "tags": []
   },
   "source": [
    "### Now that we have predicted the test data using the model we need to find out the accuracy of this model and find out whether Linear Regerssion was best algo for this data"
   ]
  },
  {
   "cell_type": "code",
   "execution_count": 153,
   "id": "domestic-process",
   "metadata": {
    "execution": {
     "iopub.execute_input": "2021-07-04T18:19:40.637596Z",
     "iopub.status.busy": "2021-07-04T18:19:40.636941Z",
     "iopub.status.idle": "2021-07-04T18:19:40.639202Z",
     "shell.execute_reply": "2021-07-04T18:19:40.638625Z"
    },
    "papermill": {
     "duration": 0.084017,
     "end_time": "2021-07-04T18:19:40.639332",
     "exception": false,
     "start_time": "2021-07-04T18:19:40.555315",
     "status": "completed"
    },
    "tags": []
   },
   "outputs": [],
   "source": [
    "from sklearn.metrics import mean_absolute_error, mean_squared_error, r2_score"
   ]
  },
  {
   "cell_type": "code",
   "execution_count": 154,
   "id": "outside-repeat",
   "metadata": {
    "execution": {
     "iopub.execute_input": "2021-07-04T18:19:40.810265Z",
     "iopub.status.busy": "2021-07-04T18:19:40.809631Z",
     "iopub.status.idle": "2021-07-04T18:19:40.817047Z",
     "shell.execute_reply": "2021-07-04T18:19:40.816397Z"
    },
    "papermill": {
     "duration": 0.102018,
     "end_time": "2021-07-04T18:19:40.817220",
     "exception": false,
     "start_time": "2021-07-04T18:19:40.715202",
     "status": "completed"
    },
    "tags": []
   },
   "outputs": [
    {
     "data": {
      "text/plain": [
       "207245.9655020552"
      ]
     },
     "execution_count": 154,
     "metadata": {},
     "output_type": "execute_result"
    }
   ],
   "source": [
    "y_test.mean()"
   ]
  },
  {
   "cell_type": "code",
   "execution_count": 155,
   "id": "prescribed-bearing",
   "metadata": {
    "execution": {
     "iopub.execute_input": "2021-07-04T18:19:40.973107Z",
     "iopub.status.busy": "2021-07-04T18:19:40.972504Z",
     "iopub.status.idle": "2021-07-04T18:19:40.975576Z",
     "shell.execute_reply": "2021-07-04T18:19:40.975130Z"
    },
    "papermill": {
     "duration": 0.083005,
     "end_time": "2021-07-04T18:19:40.975709",
     "exception": false,
     "start_time": "2021-07-04T18:19:40.892704",
     "status": "completed"
    },
    "tags": []
   },
   "outputs": [],
   "source": [
    "#df['median_house_value'].mean()"
   ]
  },
  {
   "cell_type": "code",
   "execution_count": 156,
   "id": "honest-depression",
   "metadata": {
    "execution": {
     "iopub.execute_input": "2021-07-04T18:19:41.128784Z",
     "iopub.status.busy": "2021-07-04T18:19:41.128049Z",
     "iopub.status.idle": "2021-07-04T18:19:41.131684Z",
     "shell.execute_reply": "2021-07-04T18:19:41.131197Z"
    },
    "papermill": {
     "duration": 0.080568,
     "end_time": "2021-07-04T18:19:41.131827",
     "exception": false,
     "start_time": "2021-07-04T18:19:41.051259",
     "status": "completed"
    },
    "tags": []
   },
   "outputs": [
    {
     "data": {
      "text/plain": [
       "206628.83951916796"
      ]
     },
     "execution_count": 156,
     "metadata": {},
     "output_type": "execute_result"
    }
   ],
   "source": [
    "y_predictions.mean()"
   ]
  },
  {
   "cell_type": "code",
   "execution_count": 157,
   "id": "boolean-panic",
   "metadata": {
    "execution": {
     "iopub.execute_input": "2021-07-04T18:19:41.284526Z",
     "iopub.status.busy": "2021-07-04T18:19:41.284033Z",
     "iopub.status.idle": "2021-07-04T18:19:41.288297Z",
     "shell.execute_reply": "2021-07-04T18:19:41.288736Z"
    },
    "papermill": {
     "duration": 0.08213,
     "end_time": "2021-07-04T18:19:41.288902",
     "exception": false,
     "start_time": "2021-07-04T18:19:41.206772",
     "status": "completed"
    },
    "tags": []
   },
   "outputs": [
    {
     "data": {
      "text/plain": [
       "50868.912412412436"
      ]
     },
     "execution_count": 157,
     "metadata": {},
     "output_type": "execute_result"
    }
   ],
   "source": [
    "mean_absolute_error(y_test,y_predictions)"
   ]
  },
  {
   "cell_type": "code",
   "execution_count": 158,
   "id": "confidential-australian",
   "metadata": {
    "execution": {
     "iopub.execute_input": "2021-07-04T18:19:41.442805Z",
     "iopub.status.busy": "2021-07-04T18:19:41.442195Z",
     "iopub.status.idle": "2021-07-04T18:19:41.448184Z",
     "shell.execute_reply": "2021-07-04T18:19:41.448633Z"
    },
    "papermill": {
     "duration": 0.085124,
     "end_time": "2021-07-04T18:19:41.448796",
     "exception": false,
     "start_time": "2021-07-04T18:19:41.363672",
     "status": "completed"
    },
    "tags": []
   },
   "outputs": [
    {
     "data": {
      "text/plain": [
       "28.957518349971217"
      ]
     },
     "execution_count": 158,
     "metadata": {},
     "output_type": "execute_result"
    }
   ],
   "source": [
    "def mape(actual, pred): \n",
    "    actual, pred = np.array(actual), np.array(pred)\n",
    "    return np.mean(np.abs((actual - pred) / actual)) * 100\n",
    "\n",
    "mape(y_test,y_predictions)"
   ]
  },
  {
   "cell_type": "markdown",
   "id": "southern-status",
   "metadata": {
    "papermill": {
     "duration": 0.074566,
     "end_time": "2021-07-04T18:19:41.599253",
     "exception": false,
     "start_time": "2021-07-04T18:19:41.524687",
     "status": "completed"
    },
    "tags": []
   },
   "source": [
    "#### So we after calculating MAPE we found out that we are off by or we have 28.9% i.e. 29% as error rate\n",
    "\n",
    "#### So is that error acceptable - it depends on context and consider our scenario - 29 % error is surely not  completely acceptable but it can give us a fair idea about the prices of the houses"
   ]
  },
  {
   "cell_type": "code",
   "execution_count": 159,
   "id": "unlikely-jumping",
   "metadata": {
    "execution": {
     "iopub.execute_input": "2021-07-04T18:19:41.759548Z",
     "iopub.status.busy": "2021-07-04T18:19:41.758648Z",
     "iopub.status.idle": "2021-07-04T18:19:41.762583Z",
     "shell.execute_reply": "2021-07-04T18:19:41.763358Z"
    },
    "papermill": {
     "duration": 0.085612,
     "end_time": "2021-07-04T18:19:41.763537",
     "exception": false,
     "start_time": "2021-07-04T18:19:41.677925",
     "status": "completed"
    },
    "tags": []
   },
   "outputs": [
    {
     "data": {
      "text/plain": [
       "70105.86070518458"
      ]
     },
     "execution_count": 159,
     "metadata": {},
     "output_type": "execute_result"
    }
   ],
   "source": [
    "np.sqrt(mean_squared_error(y_test,y_predictions))"
   ]
  },
  {
   "cell_type": "markdown",
   "id": "imperial-qualification",
   "metadata": {
    "papermill": {
     "duration": 0.075305,
     "end_time": "2021-07-04T18:19:41.916867",
     "exception": false,
     "start_time": "2021-07-04T18:19:41.841562",
     "status": "completed"
    },
    "tags": []
   },
   "source": [
    "##### We can that we have a high RMSE than our MAE, whcih suggests that for most of the data the predicted value is having fair accuracy but for few points/data features the predicted house value is havng very high errors"
   ]
  },
  {
   "cell_type": "code",
   "execution_count": null,
   "id": "opponent-contrary",
   "metadata": {
    "papermill": {
     "duration": 0.077393,
     "end_time": "2021-07-04T18:19:42.068197",
     "exception": false,
     "start_time": "2021-07-04T18:19:41.990804",
     "status": "completed"
    },
    "tags": []
   },
   "outputs": [],
   "source": [
    "from sklearn.metrics import r2_score,r"
   ]
  },
  {
   "cell_type": "code",
   "execution_count": 160,
   "id": "received-christopher",
   "metadata": {
    "execution": {
     "iopub.execute_input": "2021-07-04T18:19:42.220026Z",
     "iopub.status.busy": "2021-07-04T18:19:42.219470Z",
     "iopub.status.idle": "2021-07-04T18:19:42.225199Z",
     "shell.execute_reply": "2021-07-04T18:19:42.224796Z"
    },
    "papermill": {
     "duration": 0.081311,
     "end_time": "2021-07-04T18:19:42.225313",
     "exception": false,
     "start_time": "2021-07-04T18:19:42.144002",
     "status": "completed"
    },
    "tags": []
   },
   "outputs": [
    {
     "data": {
      "text/plain": [
       "0.6311825084716516"
      ]
     },
     "execution_count": 160,
     "metadata": {},
     "output_type": "execute_result"
    }
   ],
   "source": [
    "#### Accuracy of the model\n",
    "r2_score(y_test,y_predictions)"
   ]
  },
  {
   "cell_type": "code",
   "execution_count": 161,
   "id": "characteristic-racing",
   "metadata": {
    "execution": {
     "iopub.execute_input": "2021-07-04T18:19:42.378203Z",
     "iopub.status.busy": "2021-07-04T18:19:42.377616Z",
     "iopub.status.idle": "2021-07-04T18:19:42.381762Z",
     "shell.execute_reply": "2021-07-04T18:19:42.381236Z"
    },
    "papermill": {
     "duration": 0.081855,
     "end_time": "2021-07-04T18:19:42.381886",
     "exception": false,
     "start_time": "2021-07-04T18:19:42.300031",
     "status": "completed"
    },
    "tags": []
   },
   "outputs": [
    {
     "data": {
      "text/plain": [
       "Index(['housing_median_age', 'total_rooms', 'total_bedrooms', 'population',\n",
       "       'households', 'median_income', 'ocean_proximity_INLAND',\n",
       "       'ocean_proximity_ISLAND', 'ocean_proximity_NEAR BAY',\n",
       "       'ocean_proximity_NEAR OCEAN', 'ocean_proximity_<1H_OCEAN'],\n",
       "      dtype='object')"
      ]
     },
     "execution_count": 161,
     "metadata": {},
     "output_type": "execute_result"
    }
   ],
   "source": [
    "X.columns"
   ]
  },
  {
   "cell_type": "markdown",
   "id": "close-dimension",
   "metadata": {
    "papermill": {
     "duration": 0.076054,
     "end_time": "2021-07-04T18:19:42.534570",
     "exception": false,
     "start_time": "2021-07-04T18:19:42.458516",
     "status": "completed"
    },
    "tags": []
   },
   "source": [
    "So our model accuracy is 63%"
   ]
  },
  {
   "cell_type": "code",
   "execution_count": 162,
   "id": "domestic-ecology",
   "metadata": {
    "execution": {
     "iopub.execute_input": "2021-07-04T18:19:42.706786Z",
     "iopub.status.busy": "2021-07-04T18:19:42.705945Z",
     "iopub.status.idle": "2021-07-04T18:19:42.709789Z",
     "shell.execute_reply": "2021-07-04T18:19:42.709172Z"
    },
    "papermill": {
     "duration": 0.098469,
     "end_time": "2021-07-04T18:19:42.709908",
     "exception": false,
     "start_time": "2021-07-04T18:19:42.611439",
     "status": "completed"
    },
    "tags": []
   },
   "outputs": [
    {
     "data": {
      "text/plain": [
       "array([ 1.20038215e+03, -7.18719314e+00,  8.50443043e+01, -3.58253974e+01,\n",
       "        6.97236538e+01,  4.03724642e+04, -9.27051032e+04,  1.48896128e+05,\n",
       "       -2.13116993e+04, -1.08965384e+04, -2.39827874e+04])"
      ]
     },
     "execution_count": 162,
     "metadata": {},
     "output_type": "execute_result"
    }
   ],
   "source": [
    "house_price_model.coef_"
   ]
  },
  {
   "cell_type": "code",
   "execution_count": 163,
   "id": "flush-medline",
   "metadata": {
    "execution": {
     "iopub.execute_input": "2021-07-04T18:19:42.867591Z",
     "iopub.status.busy": "2021-07-04T18:19:42.866768Z",
     "iopub.status.idle": "2021-07-04T18:19:42.870501Z",
     "shell.execute_reply": "2021-07-04T18:19:42.869969Z"
    },
    "papermill": {
     "duration": 0.085193,
     "end_time": "2021-07-04T18:19:42.870620",
     "exception": false,
     "start_time": "2021-07-04T18:19:42.785427",
     "status": "completed"
    },
    "tags": []
   },
   "outputs": [
    {
     "data": {
      "text/plain": [
       "49216.063972250646"
      ]
     },
     "execution_count": 163,
     "metadata": {},
     "output_type": "execute_result"
    }
   ],
   "source": [
    "house_price_model.intercept_"
   ]
  },
  {
   "cell_type": "markdown",
   "id": "worse-reality",
   "metadata": {
    "papermill": {
     "duration": 0.074643,
     "end_time": "2021-07-04T18:19:43.021847",
     "exception": false,
     "start_time": "2021-07-04T18:19:42.947204",
     "status": "completed"
    },
    "tags": []
   },
   "source": [
    "#### Now we want to know if the underlying dataset was a valid dataset for Linear Regression , by checking the residual plots if there was a sttrange pattern that we coul not see in some multidimensional level\n",
    "\n",
    "#### Let's visualize the residual plots to see that "
   ]
  },
  {
   "cell_type": "code",
   "execution_count": 164,
   "id": "pleasant-shareware",
   "metadata": {
    "execution": {
     "iopub.execute_input": "2021-07-04T18:19:43.181471Z",
     "iopub.status.busy": "2021-07-04T18:19:43.180907Z",
     "iopub.status.idle": "2021-07-04T18:19:43.183545Z",
     "shell.execute_reply": "2021-07-04T18:19:43.183083Z"
    },
    "papermill": {
     "duration": 0.086093,
     "end_time": "2021-07-04T18:19:43.183674",
     "exception": false,
     "start_time": "2021-07-04T18:19:43.097581",
     "status": "completed"
    },
    "tags": []
   },
   "outputs": [],
   "source": [
    "test_residuals = y_test - y_predictions"
   ]
  },
  {
   "cell_type": "code",
   "execution_count": 165,
   "id": "italic-thesaurus",
   "metadata": {
    "execution": {
     "iopub.execute_input": "2021-07-04T18:19:43.345879Z",
     "iopub.status.busy": "2021-07-04T18:19:43.345148Z",
     "iopub.status.idle": "2021-07-04T18:19:43.348359Z",
     "shell.execute_reply": "2021-07-04T18:19:43.347841Z"
    },
    "papermill": {
     "duration": 0.086145,
     "end_time": "2021-07-04T18:19:43.348475",
     "exception": false,
     "start_time": "2021-07-04T18:19:43.262330",
     "status": "completed"
    },
    "tags": []
   },
   "outputs": [
    {
     "data": {
      "text/plain": [
       "20046    -16782.641144\n",
       "3024     -58160.028332\n",
       "15663    230748.065538\n",
       "20484    -55926.430429\n",
       "9814      27874.989828\n",
       "             ...      \n",
       "15316     26831.545431\n",
       "14772    -72833.347593\n",
       "12870     -9943.848144\n",
       "13476      6984.368782\n",
       "16123     89759.062336\n",
       "Name: median_house_value, Length: 6812, dtype: float64"
      ]
     },
     "execution_count": 165,
     "metadata": {},
     "output_type": "execute_result"
    }
   ],
   "source": [
    "test_residuals"
   ]
  },
  {
   "cell_type": "code",
   "execution_count": 166,
   "id": "expected-politics",
   "metadata": {
    "execution": {
     "iopub.execute_input": "2021-07-04T18:19:43.511591Z",
     "iopub.status.busy": "2021-07-04T18:19:43.509632Z",
     "iopub.status.idle": "2021-07-04T18:19:43.698835Z",
     "shell.execute_reply": "2021-07-04T18:19:43.699275Z"
    },
    "papermill": {
     "duration": 0.274064,
     "end_time": "2021-07-04T18:19:43.699465",
     "exception": false,
     "start_time": "2021-07-04T18:19:43.425401",
     "status": "completed"
    },
    "tags": []
   },
   "outputs": [
    {
     "data": {
      "image/png": "[encoded data removed]",
      "text/plain": [
       "<Figure size 432x288 with 1 Axes>"
      ]
     },
     "metadata": {
      "needs_background": "light"
     },
     "output_type": "display_data"
    }
   ],
   "source": [
    "sns.scatterplot(x=y_test,y=test_residuals)\n",
    "plt.axhline(y=0,color='red')\n",
    "plt.title('Residual Plot');"
   ]
  },
  {
   "cell_type": "markdown",
   "id": "exterior-mistress",
   "metadata": {
    "papermill": {
     "duration": 0.078109,
     "end_time": "2021-07-04T18:19:43.856313",
     "exception": false,
     "start_time": "2021-07-04T18:19:43.778204",
     "status": "completed"
    },
    "tags": []
   },
   "source": [
    "### We can see that the data residual plot shows us that the points are normally distributed along the line, so we can conclude that the underlying dataset a valid choice for Linear Regression.\n",
    "\n",
    "### As for the low model accuracy, it might be because of less data and also in model coefficients we have some negative coefficients values which we can remove to get better accuracy."
   ]
  },
  {
   "cell_type": "code",
   "execution_count": 167,
   "id": "charming-shirt",
   "metadata": {
    "execution": {
     "iopub.execute_input": "2021-07-04T18:19:44.015957Z",
     "iopub.status.busy": "2021-07-04T18:19:44.015070Z",
     "iopub.status.idle": "2021-07-04T18:19:44.337531Z",
     "shell.execute_reply": "2021-07-04T18:19:44.337966Z"
    },
    "papermill": {
     "duration": 0.404208,
     "end_time": "2021-07-04T18:19:44.338150",
     "exception": false,
     "start_time": "2021-07-04T18:19:43.933942",
     "status": "completed"
    },
    "tags": []
   },
   "outputs": [
    {
     "data": {
      "image/png": "[encoded data removed]",
      "text/plain": [
       "<Figure size 360x360 with 1 Axes>"
      ]
     },
     "metadata": {
      "needs_background": "light"
     },
     "output_type": "display_data"
    }
   ],
   "source": [
    "sns.displot(test_residuals,bins=30,kde=True);"
   ]
  },
  {
   "cell_type": "markdown",
   "id": "sound-patient",
   "metadata": {
    "papermill": {
     "duration": 0.080157,
     "end_time": "2021-07-04T18:19:44.497097",
     "exception": false,
     "start_time": "2021-07-04T18:19:44.416940",
     "status": "completed"
    },
    "tags": []
   },
   "source": [
    "### Even the distribution tells us that the errors/residuals are somewhat distributed normally and also the kde shows us that the mean is pretty close to zero\n",
    "\n",
    "### Also we can see there is undershoot of a little bit but having a little bit skewed on one way or the other is not too bad."
   ]
  },
  {
   "cell_type": "code",
   "execution_count": null,
   "id": "acute-reviewer",
   "metadata": {
    "papermill": {
     "duration": 0.079745,
     "end_time": "2021-07-04T18:19:44.655576",
     "exception": false,
     "start_time": "2021-07-04T18:19:44.575831",
     "status": "completed"
    },
    "tags": []
   },
   "outputs": [],
   "source": []
  },
  {
   "cell_type": "code",
   "execution_count": null,
   "id": "convertible-valuation",
   "metadata": {
    "papermill": {
     "duration": 0.079151,
     "end_time": "2021-07-04T18:19:44.813493",
     "exception": false,
     "start_time": "2021-07-04T18:19:44.734342",
     "status": "completed"
    },
    "tags": []
   },
   "outputs": [],
   "source": []
  },
  {
   "cell_type": "markdown",
   "id": "fiscal-palmer",
   "metadata": {
    "papermill": {
     "duration": 0.077563,
     "end_time": "2021-07-04T18:19:44.968793",
     "exception": false,
     "start_time": "2021-07-04T18:19:44.891230",
     "status": "completed"
    },
    "tags": []
   },
   "source": [
    "### Saving the model"
   ]
  },
  {
   "cell_type": "code",
   "execution_count": 171,
   "id": "crude-folder",
   "metadata": {
    "execution": {
     "iopub.execute_input": "2021-07-04T18:19:45.170534Z",
     "iopub.status.busy": "2021-07-04T18:19:45.169765Z",
     "iopub.status.idle": "2021-07-04T18:19:45.174247Z",
     "shell.execute_reply": "2021-07-04T18:19:45.173774Z"
    },
    "papermill": {
     "duration": 0.127105,
     "end_time": "2021-07-04T18:19:45.174368",
     "exception": false,
     "start_time": "2021-07-04T18:19:45.047263",
     "status": "completed"
    },
    "tags": []
   },
   "outputs": [],
   "source": [
    "# from joblib import dump #pkl,ckpt"
   ]
  },
  {
   "cell_type": "code",
   "execution_count": 59,
   "id": "adolescent-experiment",
   "metadata": {
    "execution": {
     "iopub.execute_input": "2021-07-04T18:19:45.340737Z",
     "iopub.status.busy": "2021-07-04T18:19:45.339876Z",
     "iopub.status.idle": "2021-07-04T18:19:45.344669Z",
     "shell.execute_reply": "2021-07-04T18:19:45.344137Z"
    },
    "papermill": {
     "duration": 0.089965,
     "end_time": "2021-07-04T18:19:45.344809",
     "exception": false,
     "start_time": "2021-07-04T18:19:45.254844",
     "status": "completed"
    },
    "tags": []
   },
   "outputs": [
    {
     "data": {
      "text/plain": [
       "['House_prediction_model.joblib']"
      ]
     },
     "execution_count": 59,
     "metadata": {},
     "output_type": "execute_result"
    }
   ],
   "source": [
    "# dump(house_price_model,'House_prediction_model.joblib')"
   ]
  },
  {
   "cell_type": "code",
   "execution_count": 172,
   "id": "tough-solomon",
   "metadata": {
    "papermill": {
     "duration": 0.081451,
     "end_time": "2021-07-04T18:19:45.508690",
     "exception": false,
     "start_time": "2021-07-04T18:19:45.427239",
     "status": "completed"
    },
    "tags": []
   },
   "outputs": [],
   "source": [
    "\n",
    "# model=joblib.load(model_path)\n",
    "# model.predict(x,y)"
   ]
  },
  {
   "cell_type": "code",
   "execution_count": null,
   "id": "13dad0ad",
   "metadata": {},
   "outputs": [],
   "source": []
  }
 ],
 "metadata": {
  "kernelspec": {
   "display_name": "Python 3 (ipykernel)",
   "language": "python",
   "name": "python3"
  },
  "language_info": {
   "codemirror_mode": {
    "name": "ipython",
    "version": 3
   },
   "file_extension": ".py",
   "mimetype": "text/x-python",
   "name": "python",
   "nbconvert_exporter": "python",
   "pygments_lexer": "ipython3",
   "version": "3.9.6"
  },
  "papermill": {
   "default_parameters": {},
   "duration": 26.923806,
   "end_time": "2021-07-04T18:19:47.236398",
   "environment_variables": {},
   "exception": null,
   "input_path": "__notebook__.ipynb",
   "output_path": "__notebook__.ipynb",
   "parameters": {},
   "start_time": "2021-07-04T18:19:20.312592",
   "version": "2.3.3"
  }
 },
 "nbformat": 4,
 "nbformat_minor": 5
}
